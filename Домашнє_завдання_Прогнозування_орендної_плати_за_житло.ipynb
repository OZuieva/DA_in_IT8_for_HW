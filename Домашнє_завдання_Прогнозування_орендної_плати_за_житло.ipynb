{
  "cells": [
    {
      "cell_type": "markdown",
      "metadata": {
        "id": "349a8211"
      },
      "source": [
        "# Домашнє завдання: Прогнозування орендної плати за житло\n",
        "\n",
        "## Мета завдання\n",
        "Застосувати знання з лекції для побудови моделі лінійної регресії, що прогнозує орендну плату за житло в Індії. Ви пройдете весь цикл вирішення задачі машинного навчання: від дослідницького аналізу до оцінки якості моделі.\n",
        "\n",
        "## Опис датасету\n",
        "**House Rent Prediction Dataset** містить інформацію про 4700+ оголошень про оренду житла в Індії з такими параметрами:\n",
        "- **BHK**: Кількість спалень, залів, кухонь\n",
        "- **Rent**: Орендна плата (цільова змінна)\n",
        "- **Size**: Площа в квадратних футах\n",
        "- **Floor**: Поверх та загальна кількість поверхів\n",
        "- **Area Type**: Тип розрахунку площі\n",
        "- **Area Locality**: Район\n",
        "- **City**: Місто\n",
        "- **Furnishing Status**: Стан меблювання\n",
        "- **Tenant Preferred**: Тип орендаря\n",
        "- **Bathroom**: Кількість ванних кімнат\n",
        "- **Point of Contact**: Контактна особа\n",
        "\n",
        "---\n",
        "\n",
        "## Завдання 1: Завантаження та перший огляд даних (1 бал)\n",
        "\n",
        "**Що потрібно зробити:**\n",
        "1. Завантажте дані з файлу `House_Rent_Dataset.csv`\n",
        "2. Виведіть розмір датасету\n",
        "3. Покажіть перші 5 рядків\n",
        "4. Виведіть загальну інформацію про дані (включно з типами даних та кількістю значень)\n"
      ]
    },
    {
      "cell_type": "code",
      "execution_count": 44,
      "metadata": {
        "id": "V4sHrxbjOUau"
      },
      "outputs": [],
      "source": [
        "import pandas as pd\n",
        "import plotly.express as px\n",
        "import matplotlib.pyplot as plt\n",
        "import seaborn as sns\n",
        "import numpy as np\n",
        "import plotly.graph_objects as go"
      ]
    },
    {
      "cell_type": "code",
      "execution_count": 2,
      "metadata": {},
      "outputs": [],
      "source": [
        "# Завантаження даних\n",
        "df = pd.read_csv('../data/House_Rent_Dataset.csv')"
      ]
    },
    {
      "cell_type": "code",
      "execution_count": 3,
      "metadata": {},
      "outputs": [
        {
          "data": {
            "text/plain": [
              "(4746, 12)"
            ]
          },
          "execution_count": 3,
          "metadata": {},
          "output_type": "execute_result"
        }
      ],
      "source": [
        "# Розмір датасету\n",
        "df.shape"
      ]
    },
    {
      "cell_type": "code",
      "execution_count": 4,
      "metadata": {},
      "outputs": [
        {
          "data": {
            "text/html": [
              "<div>\n",
              "<style scoped>\n",
              "    .dataframe tbody tr th:only-of-type {\n",
              "        vertical-align: middle;\n",
              "    }\n",
              "\n",
              "    .dataframe tbody tr th {\n",
              "        vertical-align: top;\n",
              "    }\n",
              "\n",
              "    .dataframe thead th {\n",
              "        text-align: right;\n",
              "    }\n",
              "</style>\n",
              "<table border=\"1\" class=\"dataframe\">\n",
              "  <thead>\n",
              "    <tr style=\"text-align: right;\">\n",
              "      <th></th>\n",
              "      <th>Posted On</th>\n",
              "      <th>BHK</th>\n",
              "      <th>Rent</th>\n",
              "      <th>Size</th>\n",
              "      <th>Floor</th>\n",
              "      <th>Area Type</th>\n",
              "      <th>Area Locality</th>\n",
              "      <th>City</th>\n",
              "      <th>Furnishing Status</th>\n",
              "      <th>Tenant Preferred</th>\n",
              "      <th>Bathroom</th>\n",
              "      <th>Point of Contact</th>\n",
              "    </tr>\n",
              "  </thead>\n",
              "  <tbody>\n",
              "    <tr>\n",
              "      <th>0</th>\n",
              "      <td>2022-05-18</td>\n",
              "      <td>2</td>\n",
              "      <td>10000</td>\n",
              "      <td>1100</td>\n",
              "      <td>Ground out of 2</td>\n",
              "      <td>Super Area</td>\n",
              "      <td>Bandel</td>\n",
              "      <td>Kolkata</td>\n",
              "      <td>Unfurnished</td>\n",
              "      <td>Bachelors/Family</td>\n",
              "      <td>2</td>\n",
              "      <td>Contact Owner</td>\n",
              "    </tr>\n",
              "    <tr>\n",
              "      <th>1</th>\n",
              "      <td>2022-05-13</td>\n",
              "      <td>2</td>\n",
              "      <td>20000</td>\n",
              "      <td>800</td>\n",
              "      <td>1 out of 3</td>\n",
              "      <td>Super Area</td>\n",
              "      <td>Phool Bagan, Kankurgachi</td>\n",
              "      <td>Kolkata</td>\n",
              "      <td>Semi-Furnished</td>\n",
              "      <td>Bachelors/Family</td>\n",
              "      <td>1</td>\n",
              "      <td>Contact Owner</td>\n",
              "    </tr>\n",
              "    <tr>\n",
              "      <th>2</th>\n",
              "      <td>2022-05-16</td>\n",
              "      <td>2</td>\n",
              "      <td>17000</td>\n",
              "      <td>1000</td>\n",
              "      <td>1 out of 3</td>\n",
              "      <td>Super Area</td>\n",
              "      <td>Salt Lake City Sector 2</td>\n",
              "      <td>Kolkata</td>\n",
              "      <td>Semi-Furnished</td>\n",
              "      <td>Bachelors/Family</td>\n",
              "      <td>1</td>\n",
              "      <td>Contact Owner</td>\n",
              "    </tr>\n",
              "    <tr>\n",
              "      <th>3</th>\n",
              "      <td>2022-07-04</td>\n",
              "      <td>2</td>\n",
              "      <td>10000</td>\n",
              "      <td>800</td>\n",
              "      <td>1 out of 2</td>\n",
              "      <td>Super Area</td>\n",
              "      <td>Dumdum Park</td>\n",
              "      <td>Kolkata</td>\n",
              "      <td>Unfurnished</td>\n",
              "      <td>Bachelors/Family</td>\n",
              "      <td>1</td>\n",
              "      <td>Contact Owner</td>\n",
              "    </tr>\n",
              "    <tr>\n",
              "      <th>4</th>\n",
              "      <td>2022-05-09</td>\n",
              "      <td>2</td>\n",
              "      <td>7500</td>\n",
              "      <td>850</td>\n",
              "      <td>1 out of 2</td>\n",
              "      <td>Carpet Area</td>\n",
              "      <td>South Dum Dum</td>\n",
              "      <td>Kolkata</td>\n",
              "      <td>Unfurnished</td>\n",
              "      <td>Bachelors</td>\n",
              "      <td>1</td>\n",
              "      <td>Contact Owner</td>\n",
              "    </tr>\n",
              "  </tbody>\n",
              "</table>\n",
              "</div>"
            ],
            "text/plain": [
              "    Posted On  BHK   Rent  Size            Floor    Area Type  \\\n",
              "0  2022-05-18    2  10000  1100  Ground out of 2   Super Area   \n",
              "1  2022-05-13    2  20000   800       1 out of 3   Super Area   \n",
              "2  2022-05-16    2  17000  1000       1 out of 3   Super Area   \n",
              "3  2022-07-04    2  10000   800       1 out of 2   Super Area   \n",
              "4  2022-05-09    2   7500   850       1 out of 2  Carpet Area   \n",
              "\n",
              "              Area Locality     City Furnishing Status  Tenant Preferred  \\\n",
              "0                    Bandel  Kolkata       Unfurnished  Bachelors/Family   \n",
              "1  Phool Bagan, Kankurgachi  Kolkata    Semi-Furnished  Bachelors/Family   \n",
              "2   Salt Lake City Sector 2  Kolkata    Semi-Furnished  Bachelors/Family   \n",
              "3               Dumdum Park  Kolkata       Unfurnished  Bachelors/Family   \n",
              "4             South Dum Dum  Kolkata       Unfurnished         Bachelors   \n",
              "\n",
              "   Bathroom Point of Contact  \n",
              "0         2    Contact Owner  \n",
              "1         1    Contact Owner  \n",
              "2         1    Contact Owner  \n",
              "3         1    Contact Owner  \n",
              "4         1    Contact Owner  "
            ]
          },
          "execution_count": 4,
          "metadata": {},
          "output_type": "execute_result"
        }
      ],
      "source": [
        "# Перші 5 рядків\n",
        "df.head()"
      ]
    },
    {
      "cell_type": "code",
      "execution_count": 5,
      "metadata": {},
      "outputs": [
        {
          "name": "stdout",
          "output_type": "stream",
          "text": [
            "<class 'pandas.core.frame.DataFrame'>\n",
            "RangeIndex: 4746 entries, 0 to 4745\n",
            "Data columns (total 12 columns):\n",
            " #   Column             Non-Null Count  Dtype \n",
            "---  ------             --------------  ----- \n",
            " 0   Posted On          4746 non-null   object\n",
            " 1   BHK                4746 non-null   int64 \n",
            " 2   Rent               4746 non-null   int64 \n",
            " 3   Size               4746 non-null   int64 \n",
            " 4   Floor              4746 non-null   object\n",
            " 5   Area Type          4746 non-null   object\n",
            " 6   Area Locality      4746 non-null   object\n",
            " 7   City               4746 non-null   object\n",
            " 8   Furnishing Status  4746 non-null   object\n",
            " 9   Tenant Preferred   4746 non-null   object\n",
            " 10  Bathroom           4746 non-null   int64 \n",
            " 11  Point of Contact   4746 non-null   object\n",
            "dtypes: int64(4), object(8)\n",
            "memory usage: 445.1+ KB\n"
          ]
        }
      ],
      "source": [
        "# Загальна інформація про дані\n",
        "df.info()"
      ]
    },
    {
      "cell_type": "markdown",
      "metadata": {
        "id": "7e2f1440"
      },
      "source": [
        "## Завдання 2: Дослідницький аналіз даних (EDA) (4 бали)\n",
        "\n",
        "**Що потрібно зробити:**\n",
        "1. **Аналіз пропущених значень.** Перевірте наявність і відсоток пропущених значень у кожній колонці\n",
        "2. **Базова статистика.** Обчисліть базову статистику (середнє, квартилі, стандартне відхилення) для числових змінних.\n",
        "3. **Аналіз цільової змінної.** Побудуйте гістограму розподілу цільової змінної (Rent)\n",
        "4. **Робота з викидами.** Знайдіть та видаліть викиди в цільовій змінній (якщо є). Визначити викиди можна будь-яким зрозумілим для вас способом, як варіант - таким, що використовується в побудові box-plot (https://en.wikipedia.org/wiki/Box_plot#Example_with_outliers).\n",
        "5. **Аналіз категоріальних змінних.** Виведіть кількість унікальних значень для кожної з категоріальних колонок.\n"
      ]
    },
    {
      "cell_type": "code",
      "execution_count": 6,
      "metadata": {
        "id": "aWPsrhm8OVvU"
      },
      "outputs": [
        {
          "data": {
            "text/plain": [
              "Posted On            0\n",
              "BHK                  0\n",
              "Rent                 0\n",
              "Size                 0\n",
              "Floor                0\n",
              "Area Type            0\n",
              "Area Locality        0\n",
              "City                 0\n",
              "Furnishing Status    0\n",
              "Tenant Preferred     0\n",
              "Bathroom             0\n",
              "Point of Contact     0\n",
              "dtype: int64"
            ]
          },
          "execution_count": 6,
          "metadata": {},
          "output_type": "execute_result"
        }
      ],
      "source": [
        "# Аналіз пропущених значень\n",
        "df.isnull().sum()"
      ]
    },
    {
      "cell_type": "markdown",
      "metadata": {},
      "source": [
        "Пропущених значень немає "
      ]
    },
    {
      "cell_type": "code",
      "execution_count": 7,
      "metadata": {},
      "outputs": [
        {
          "data": {
            "text/html": [
              "<div>\n",
              "<style scoped>\n",
              "    .dataframe tbody tr th:only-of-type {\n",
              "        vertical-align: middle;\n",
              "    }\n",
              "\n",
              "    .dataframe tbody tr th {\n",
              "        vertical-align: top;\n",
              "    }\n",
              "\n",
              "    .dataframe thead th {\n",
              "        text-align: right;\n",
              "    }\n",
              "</style>\n",
              "<table border=\"1\" class=\"dataframe\">\n",
              "  <thead>\n",
              "    <tr style=\"text-align: right;\">\n",
              "      <th></th>\n",
              "      <th>BHK</th>\n",
              "      <th>Rent</th>\n",
              "      <th>Size</th>\n",
              "      <th>Bathroom</th>\n",
              "    </tr>\n",
              "  </thead>\n",
              "  <tbody>\n",
              "    <tr>\n",
              "      <th>count</th>\n",
              "      <td>4746.000000</td>\n",
              "      <td>4.746000e+03</td>\n",
              "      <td>4746.000000</td>\n",
              "      <td>4746.000000</td>\n",
              "    </tr>\n",
              "    <tr>\n",
              "      <th>mean</th>\n",
              "      <td>2.083860</td>\n",
              "      <td>3.499345e+04</td>\n",
              "      <td>967.490729</td>\n",
              "      <td>1.965866</td>\n",
              "    </tr>\n",
              "    <tr>\n",
              "      <th>std</th>\n",
              "      <td>0.832256</td>\n",
              "      <td>7.810641e+04</td>\n",
              "      <td>634.202328</td>\n",
              "      <td>0.884532</td>\n",
              "    </tr>\n",
              "    <tr>\n",
              "      <th>min</th>\n",
              "      <td>1.000000</td>\n",
              "      <td>1.200000e+03</td>\n",
              "      <td>10.000000</td>\n",
              "      <td>1.000000</td>\n",
              "    </tr>\n",
              "    <tr>\n",
              "      <th>25%</th>\n",
              "      <td>2.000000</td>\n",
              "      <td>1.000000e+04</td>\n",
              "      <td>550.000000</td>\n",
              "      <td>1.000000</td>\n",
              "    </tr>\n",
              "    <tr>\n",
              "      <th>50%</th>\n",
              "      <td>2.000000</td>\n",
              "      <td>1.600000e+04</td>\n",
              "      <td>850.000000</td>\n",
              "      <td>2.000000</td>\n",
              "    </tr>\n",
              "    <tr>\n",
              "      <th>75%</th>\n",
              "      <td>3.000000</td>\n",
              "      <td>3.300000e+04</td>\n",
              "      <td>1200.000000</td>\n",
              "      <td>2.000000</td>\n",
              "    </tr>\n",
              "    <tr>\n",
              "      <th>max</th>\n",
              "      <td>6.000000</td>\n",
              "      <td>3.500000e+06</td>\n",
              "      <td>8000.000000</td>\n",
              "      <td>10.000000</td>\n",
              "    </tr>\n",
              "  </tbody>\n",
              "</table>\n",
              "</div>"
            ],
            "text/plain": [
              "               BHK          Rent         Size     Bathroom\n",
              "count  4746.000000  4.746000e+03  4746.000000  4746.000000\n",
              "mean      2.083860  3.499345e+04   967.490729     1.965866\n",
              "std       0.832256  7.810641e+04   634.202328     0.884532\n",
              "min       1.000000  1.200000e+03    10.000000     1.000000\n",
              "25%       2.000000  1.000000e+04   550.000000     1.000000\n",
              "50%       2.000000  1.600000e+04   850.000000     2.000000\n",
              "75%       3.000000  3.300000e+04  1200.000000     2.000000\n",
              "max       6.000000  3.500000e+06  8000.000000    10.000000"
            ]
          },
          "execution_count": 7,
          "metadata": {},
          "output_type": "execute_result"
        }
      ],
      "source": [
        "# Базова статистика\n",
        "df.describe()"
      ]
    },
    {
      "cell_type": "code",
      "execution_count": 8,
      "metadata": {},
      "outputs": [
        {
          "data": {
            "image/png": "[encoded data removed]",
            "text/plain": [
              "<Figure size 1000x400 with 1 Axes>"
            ]
          },
          "metadata": {},
          "output_type": "display_data"
        }
      ],
      "source": [
        "# Гістограма розподілу цільової змінної (Rent)\n",
        "Rent_dist = df['Rent']\n",
        "fig, ax = plt.subplots(figsize=(12, 6))\n",
        "\n",
        "Rent_dist.plot.hist(\n",
        "    ax = ax,\n",
        "    figsize=(10, 4),\n",
        "    title='Гістограма розподілу цільової змінної (Rent)',\n",
        "    xlabel='Орендна плата (Rent)',\n",
        "    ylabel='Кількість оголошень',\n",
        "    color='royalblue',\n",
        "    bins=50,\n",
        ");\n",
        "\n",
        "ax.ticklabel_format(style='plain', axis='both')\n",
        "plt.tight_layout()"
      ]
    },
    {
      "cell_type": "markdown",
      "metadata": {},
      "source": [
        "В більшості оголошень орендна плата до 150000"
      ]
    },
    {
      "cell_type": "code",
      "execution_count": 9,
      "metadata": {},
      "outputs": [
        {
          "data": {
            "image/png": "[encoded data removed]",
            "text/plain": [
              "<Figure size 600x600 with 1 Axes>"
            ]
          },
          "metadata": {},
          "output_type": "display_data"
        }
      ],
      "source": [
        "# Box plot\n",
        "plt.figure(figsize=(6, 6))\n",
        "plt.boxplot(df['Rent'])\n",
        "plt.title('Box Plot для змінної Rent')\n",
        "plt.ylabel('Орендна плата (Rent)')\n",
        "plt.grid(True, alpha=0.3)\n",
        "\n",
        "ax = plt.gca()\n",
        "ax.yaxis.set_major_formatter(plt.FuncFormatter(lambda x, p: f'{x:,.0f}'))\n",
        "\n",
        "plt.tight_layout()\n",
        "plt.show()"
      ]
    },
    {
      "cell_type": "markdown",
      "metadata": {},
      "source": [
        "Діаграма вказує на наявні викиди - є квартири з вартістю оренди 1000000 та навіть 3500000 - це ексклюзивні варіанти, які потрібно аналізувати окремо.\n",
        "\n",
        "Використаємо метод інтерквартильного розмаху для виявлення та видалення викидів"
      ]
    },
    {
      "cell_type": "code",
      "execution_count": 10,
      "metadata": {},
      "outputs": [
        {
          "name": "stdout",
          "output_type": "stream",
          "text": [
            "Викиди: значення < -24,500 або > 67,500\n",
            "Видалено 520 записів з викидами (11.0%)\n"
          ]
        }
      ],
      "source": [
        "# Використовуємо IQR метод\n",
        "Q1 = df['Rent'].quantile(0.25)\n",
        "Q3 = df['Rent'].quantile(0.75)\n",
        "IQR = Q3 - Q1\n",
        "lower_bound = Q1 - 1.5 * IQR\n",
        "upper_bound = Q3 + 1.5 * IQR\n",
        "\n",
        "print(f\"Викиди: значення < {lower_bound:,.0f} або > {upper_bound:,.0f}\")\n",
        "\n",
        "# Видаляємо викиди\n",
        "df_clean = df[(df['Rent'] >= lower_bound) & (df['Rent'] <= upper_bound)]\n",
        "print(f'Видалено {len(df) - len(df_clean)} записів з викидами ({(len(df) - len(df_clean))/len(df)*100:.1f}%)')"
      ]
    },
    {
      "cell_type": "code",
      "execution_count": 11,
      "metadata": {},
      "outputs": [
        {
          "name": "stdout",
          "output_type": "stream",
          "text": [
            "Posted On: 80 унікальних значень\n",
            "Floor: 340 унікальних значень\n",
            "Area Type: 3 унікальних значень\n",
            "Area Locality: 1997 унікальних значень\n",
            "City: 6 унікальних значень\n",
            "Furnishing Status: 3 унікальних значень\n",
            "Tenant Preferred: 3 унікальних значень\n",
            "Point of Contact: 3 унікальних значень\n"
          ]
        }
      ],
      "source": [
        "# Кількість унікальних значень для кожної з категоріальних колонок (після видалення викідів)\n",
        "categorical_columns = df_clean.select_dtypes(include=['object']).columns\n",
        "\n",
        "\n",
        "for column in categorical_columns:\n",
        "    unique_count = df_clean[column].nunique()\n",
        "    print(f'{column}: {unique_count} унікальних значень')\n",
        "\n"
      ]
    },
    {
      "cell_type": "markdown",
      "metadata": {
        "id": "9386b308"
      },
      "source": [
        "\n",
        "## Завдання 3: Аналіз кореляцій та взаємозв'язків (3 бали)\n",
        "\n",
        "**Що потрібно зробити:**\n",
        "1. Обчисліть матрицю кореляцій для числових змінних\n",
        "2. Візуалізуйте кореляційну матрицю за допомогою heatmap\n",
        "3. Побудуйте scatter plot між Size та Rent\n",
        "4. Проаналізуйте взаємозв'язок між BHK та Rent за допомогою boxplot (який розподіл плати для різних значень BHK)\n"
      ]
    },
    {
      "cell_type": "code",
      "execution_count": 12,
      "metadata": {
        "id": "xselVsmDOWqZ"
      },
      "outputs": [
        {
          "data": {
            "application/vnd.plotly.v1+json": {
              "config": {
                "plotlyServerURL": "https://plot.ly"
              },
              "data": [
                {
                  "coloraxis": "coloraxis",
                  "hovertemplate": "x: %{x}<br>y: %{y}<br>Кореляція: %{z}<extra></extra>",
                  "name": "0",
                  "texttemplate": "%{z:.2f}",
                  "type": "heatmap",
                  "x": [
                    "BHK",
                    "Rent",
                    "Size",
                    "Bathroom"
                  ],
                  "xaxis": "x",
                  "y": [
                    "BHK",
                    "Rent",
                    "Size",
                    "Bathroom"
                  ],
                  "yaxis": "y",
                  "z": {
                    "bdata": "AAAAAAAA8D/sn6cZYa7ZP/VDsZO6WeY/rMjmRvLu5z/sn6cZYa7ZPwAAAAAAAPA/9zU9DNMw2T/o9BEpeTXgP/VDsZO6WeY/9zU9DNMw2T8AAAAAAADwP954agOJx+U/rMjmRvLu5z/o9BEpeTXgP954agOJx+U/AAAAAAAA8D8=",
                    "dtype": "f8",
                    "shape": "4, 4"
                  }
                }
              ],
              "layout": {
                "coloraxis": {
                  "colorbar": {
                    "title": {
                      "text": "Кореляція"
                    }
                  },
                  "colorscale": [
                    [
                      0,
                      "rgb(5,48,97)"
                    ],
                    [
                      0.1,
                      "rgb(33,102,172)"
                    ],
                    [
                      0.2,
                      "rgb(67,147,195)"
                    ],
                    [
                      0.3,
                      "rgb(146,197,222)"
                    ],
                    [
                      0.4,
                      "rgb(209,229,240)"
                    ],
                    [
                      0.5,
                      "rgb(247,247,247)"
                    ],
                    [
                      0.6,
                      "rgb(253,219,199)"
                    ],
                    [
                      0.7,
                      "rgb(244,165,130)"
                    ],
                    [
                      0.8,
                      "rgb(214,96,77)"
                    ],
                    [
                      0.9,
                      "rgb(178,24,43)"
                    ],
                    [
                      1,
                      "rgb(103,0,31)"
                    ]
                  ]
                },
                "height": 500,
                "template": {
                  "data": {
                    "bar": [
                      {
                        "error_x": {
                          "color": "#2a3f5f"
                        },
                        "error_y": {
                          "color": "#2a3f5f"
                        },
                        "marker": {
                          "line": {
                            "color": "#E5ECF6",
                            "width": 0.5
                          },
                          "pattern": {
                            "fillmode": "overlay",
                            "size": 10,
                            "solidity": 0.2
                          }
                        },
                        "type": "bar"
                      }
                    ],
                    "barpolar": [
                      {
                        "marker": {
                          "line": {
                            "color": "#E5ECF6",
                            "width": 0.5
                          },
                          "pattern": {
                            "fillmode": "overlay",
                            "size": 10,
                            "solidity": 0.2
                          }
                        },
                        "type": "barpolar"
                      }
                    ],
                    "carpet": [
                      {
                        "aaxis": {
                          "endlinecolor": "#2a3f5f",
                          "gridcolor": "white",
                          "linecolor": "white",
                          "minorgridcolor": "white",
                          "startlinecolor": "#2a3f5f"
                        },
                        "baxis": {
                          "endlinecolor": "#2a3f5f",
                          "gridcolor": "white",
                          "linecolor": "white",
                          "minorgridcolor": "white",
                          "startlinecolor": "#2a3f5f"
                        },
                        "type": "carpet"
                      }
                    ],
                    "choropleth": [
                      {
                        "colorbar": {
                          "outlinewidth": 0,
                          "ticks": ""
                        },
                        "type": "choropleth"
                      }
                    ],
                    "contour": [
                      {
                        "colorbar": {
                          "outlinewidth": 0,
                          "ticks": ""
                        },
                        "colorscale": [
                          [
                            0,
                            "#0d0887"
                          ],
                          [
                            0.1111111111111111,
                            "#46039f"
                          ],
                          [
                            0.2222222222222222,
                            "#7201a8"
                          ],
                          [
                            0.3333333333333333,
                            "#9c179e"
                          ],
                          [
                            0.4444444444444444,
                            "#bd3786"
                          ],
                          [
                            0.5555555555555556,
                            "#d8576b"
                          ],
                          [
                            0.6666666666666666,
                            "#ed7953"
                          ],
                          [
                            0.7777777777777778,
                            "#fb9f3a"
                          ],
                          [
                            0.8888888888888888,
                            "#fdca26"
                          ],
                          [
                            1,
                            "#f0f921"
                          ]
                        ],
                        "type": "contour"
                      }
                    ],
                    "contourcarpet": [
                      {
                        "colorbar": {
                          "outlinewidth": 0,
                          "ticks": ""
                        },
                        "type": "contourcarpet"
                      }
                    ],
                    "heatmap": [
                      {
                        "colorbar": {
                          "outlinewidth": 0,
                          "ticks": ""
                        },
                        "colorscale": [
                          [
                            0,
                            "#0d0887"
                          ],
                          [
                            0.1111111111111111,
                            "#46039f"
                          ],
                          [
                            0.2222222222222222,
                            "#7201a8"
                          ],
                          [
                            0.3333333333333333,
                            "#9c179e"
                          ],
                          [
                            0.4444444444444444,
                            "#bd3786"
                          ],
                          [
                            0.5555555555555556,
                            "#d8576b"
                          ],
                          [
                            0.6666666666666666,
                            "#ed7953"
                          ],
                          [
                            0.7777777777777778,
                            "#fb9f3a"
                          ],
                          [
                            0.8888888888888888,
                            "#fdca26"
                          ],
                          [
                            1,
                            "#f0f921"
                          ]
                        ],
                        "type": "heatmap"
                      }
                    ],
                    "histogram": [
                      {
                        "marker": {
                          "pattern": {
                            "fillmode": "overlay",
                            "size": 10,
                            "solidity": 0.2
                          }
                        },
                        "type": "histogram"
                      }
                    ],
                    "histogram2d": [
                      {
                        "colorbar": {
                          "outlinewidth": 0,
                          "ticks": ""
                        },
                        "colorscale": [
                          [
                            0,
                            "#0d0887"
                          ],
                          [
                            0.1111111111111111,
                            "#46039f"
                          ],
                          [
                            0.2222222222222222,
                            "#7201a8"
                          ],
                          [
                            0.3333333333333333,
                            "#9c179e"
                          ],
                          [
                            0.4444444444444444,
                            "#bd3786"
                          ],
                          [
                            0.5555555555555556,
                            "#d8576b"
                          ],
                          [
                            0.6666666666666666,
                            "#ed7953"
                          ],
                          [
                            0.7777777777777778,
                            "#fb9f3a"
                          ],
                          [
                            0.8888888888888888,
                            "#fdca26"
                          ],
                          [
                            1,
                            "#f0f921"
                          ]
                        ],
                        "type": "histogram2d"
                      }
                    ],
                    "histogram2dcontour": [
                      {
                        "colorbar": {
                          "outlinewidth": 0,
                          "ticks": ""
                        },
                        "colorscale": [
                          [
                            0,
                            "#0d0887"
                          ],
                          [
                            0.1111111111111111,
                            "#46039f"
                          ],
                          [
                            0.2222222222222222,
                            "#7201a8"
                          ],
                          [
                            0.3333333333333333,
                            "#9c179e"
                          ],
                          [
                            0.4444444444444444,
                            "#bd3786"
                          ],
                          [
                            0.5555555555555556,
                            "#d8576b"
                          ],
                          [
                            0.6666666666666666,
                            "#ed7953"
                          ],
                          [
                            0.7777777777777778,
                            "#fb9f3a"
                          ],
                          [
                            0.8888888888888888,
                            "#fdca26"
                          ],
                          [
                            1,
                            "#f0f921"
                          ]
                        ],
                        "type": "histogram2dcontour"
                      }
                    ],
                    "mesh3d": [
                      {
                        "colorbar": {
                          "outlinewidth": 0,
                          "ticks": ""
                        },
                        "type": "mesh3d"
                      }
                    ],
                    "parcoords": [
                      {
                        "line": {
                          "colorbar": {
                            "outlinewidth": 0,
                            "ticks": ""
                          }
                        },
                        "type": "parcoords"
                      }
                    ],
                    "pie": [
                      {
                        "automargin": true,
                        "type": "pie"
                      }
                    ],
                    "scatter": [
                      {
                        "fillpattern": {
                          "fillmode": "overlay",
                          "size": 10,
                          "solidity": 0.2
                        },
                        "type": "scatter"
                      }
                    ],
                    "scatter3d": [
                      {
                        "line": {
                          "colorbar": {
                            "outlinewidth": 0,
                            "ticks": ""
                          }
                        },
                        "marker": {
                          "colorbar": {
                            "outlinewidth": 0,
                            "ticks": ""
                          }
                        },
                        "type": "scatter3d"
                      }
                    ],
                    "scattercarpet": [
                      {
                        "marker": {
                          "colorbar": {
                            "outlinewidth": 0,
                            "ticks": ""
                          }
                        },
                        "type": "scattercarpet"
                      }
                    ],
                    "scattergeo": [
                      {
                        "marker": {
                          "colorbar": {
                            "outlinewidth": 0,
                            "ticks": ""
                          }
                        },
                        "type": "scattergeo"
                      }
                    ],
                    "scattergl": [
                      {
                        "marker": {
                          "colorbar": {
                            "outlinewidth": 0,
                            "ticks": ""
                          }
                        },
                        "type": "scattergl"
                      }
                    ],
                    "scattermap": [
                      {
                        "marker": {
                          "colorbar": {
                            "outlinewidth": 0,
                            "ticks": ""
                          }
                        },
                        "type": "scattermap"
                      }
                    ],
                    "scattermapbox": [
                      {
                        "marker": {
                          "colorbar": {
                            "outlinewidth": 0,
                            "ticks": ""
                          }
                        },
                        "type": "scattermapbox"
                      }
                    ],
                    "scatterpolar": [
                      {
                        "marker": {
                          "colorbar": {
                            "outlinewidth": 0,
                            "ticks": ""
                          }
                        },
                        "type": "scatterpolar"
                      }
                    ],
                    "scatterpolargl": [
                      {
                        "marker": {
                          "colorbar": {
                            "outlinewidth": 0,
                            "ticks": ""
                          }
                        },
                        "type": "scatterpolargl"
                      }
                    ],
                    "scatterternary": [
                      {
                        "marker": {
                          "colorbar": {
                            "outlinewidth": 0,
                            "ticks": ""
                          }
                        },
                        "type": "scatterternary"
                      }
                    ],
                    "surface": [
                      {
                        "colorbar": {
                          "outlinewidth": 0,
                          "ticks": ""
                        },
                        "colorscale": [
                          [
                            0,
                            "#0d0887"
                          ],
                          [
                            0.1111111111111111,
                            "#46039f"
                          ],
                          [
                            0.2222222222222222,
                            "#7201a8"
                          ],
                          [
                            0.3333333333333333,
                            "#9c179e"
                          ],
                          [
                            0.4444444444444444,
                            "#bd3786"
                          ],
                          [
                            0.5555555555555556,
                            "#d8576b"
                          ],
                          [
                            0.6666666666666666,
                            "#ed7953"
                          ],
                          [
                            0.7777777777777778,
                            "#fb9f3a"
                          ],
                          [
                            0.8888888888888888,
                            "#fdca26"
                          ],
                          [
                            1,
                            "#f0f921"
                          ]
                        ],
                        "type": "surface"
                      }
                    ],
                    "table": [
                      {
                        "cells": {
                          "fill": {
                            "color": "#EBF0F8"
                          },
                          "line": {
                            "color": "white"
                          }
                        },
                        "header": {
                          "fill": {
                            "color": "#C8D4E3"
                          },
                          "line": {
                            "color": "white"
                          }
                        },
                        "type": "table"
                      }
                    ]
                  },
                  "layout": {
                    "annotationdefaults": {
                      "arrowcolor": "#2a3f5f",
                      "arrowhead": 0,
                      "arrowwidth": 1
                    },
                    "autotypenumbers": "strict",
                    "coloraxis": {
                      "colorbar": {
                        "outlinewidth": 0,
                        "ticks": ""
                      }
                    },
                    "colorscale": {
                      "diverging": [
                        [
                          0,
                          "#8e0152"
                        ],
                        [
                          0.1,
                          "#c51b7d"
                        ],
                        [
                          0.2,
                          "#de77ae"
                        ],
                        [
                          0.3,
                          "#f1b6da"
                        ],
                        [
                          0.4,
                          "#fde0ef"
                        ],
                        [
                          0.5,
                          "#f7f7f7"
                        ],
                        [
                          0.6,
                          "#e6f5d0"
                        ],
                        [
                          0.7,
                          "#b8e186"
                        ],
                        [
                          0.8,
                          "#7fbc41"
                        ],
                        [
                          0.9,
                          "#4d9221"
                        ],
                        [
                          1,
                          "#276419"
                        ]
                      ],
                      "sequential": [
                        [
                          0,
                          "#0d0887"
                        ],
                        [
                          0.1111111111111111,
                          "#46039f"
                        ],
                        [
                          0.2222222222222222,
                          "#7201a8"
                        ],
                        [
                          0.3333333333333333,
                          "#9c179e"
                        ],
                        [
                          0.4444444444444444,
                          "#bd3786"
                        ],
                        [
                          0.5555555555555556,
                          "#d8576b"
                        ],
                        [
                          0.6666666666666666,
                          "#ed7953"
                        ],
                        [
                          0.7777777777777778,
                          "#fb9f3a"
                        ],
                        [
                          0.8888888888888888,
                          "#fdca26"
                        ],
                        [
                          1,
                          "#f0f921"
                        ]
                      ],
                      "sequentialminus": [
                        [
                          0,
                          "#0d0887"
                        ],
                        [
                          0.1111111111111111,
                          "#46039f"
                        ],
                        [
                          0.2222222222222222,
                          "#7201a8"
                        ],
                        [
                          0.3333333333333333,
                          "#9c179e"
                        ],
                        [
                          0.4444444444444444,
                          "#bd3786"
                        ],
                        [
                          0.5555555555555556,
                          "#d8576b"
                        ],
                        [
                          0.6666666666666666,
                          "#ed7953"
                        ],
                        [
                          0.7777777777777778,
                          "#fb9f3a"
                        ],
                        [
                          0.8888888888888888,
                          "#fdca26"
                        ],
                        [
                          1,
                          "#f0f921"
                        ]
                      ]
                    },
                    "colorway": [
                      "#636efa",
                      "#EF553B",
                      "#00cc96",
                      "#ab63fa",
                      "#FFA15A",
                      "#19d3f3",
                      "#FF6692",
                      "#B6E880",
                      "#FF97FF",
                      "#FECB52"
                    ],
                    "font": {
                      "color": "#2a3f5f"
                    },
                    "geo": {
                      "bgcolor": "white",
                      "lakecolor": "white",
                      "landcolor": "#E5ECF6",
                      "showlakes": true,
                      "showland": true,
                      "subunitcolor": "white"
                    },
                    "hoverlabel": {
                      "align": "left"
                    },
                    "hovermode": "closest",
                    "mapbox": {
                      "style": "light"
                    },
                    "paper_bgcolor": "white",
                    "plot_bgcolor": "#E5ECF6",
                    "polar": {
                      "angularaxis": {
                        "gridcolor": "white",
                        "linecolor": "white",
                        "ticks": ""
                      },
                      "bgcolor": "#E5ECF6",
                      "radialaxis": {
                        "gridcolor": "white",
                        "linecolor": "white",
                        "ticks": ""
                      }
                    },
                    "scene": {
                      "xaxis": {
                        "backgroundcolor": "#E5ECF6",
                        "gridcolor": "white",
                        "gridwidth": 2,
                        "linecolor": "white",
                        "showbackground": true,
                        "ticks": "",
                        "zerolinecolor": "white"
                      },
                      "yaxis": {
                        "backgroundcolor": "#E5ECF6",
                        "gridcolor": "white",
                        "gridwidth": 2,
                        "linecolor": "white",
                        "showbackground": true,
                        "ticks": "",
                        "zerolinecolor": "white"
                      },
                      "zaxis": {
                        "backgroundcolor": "#E5ECF6",
                        "gridcolor": "white",
                        "gridwidth": 2,
                        "linecolor": "white",
                        "showbackground": true,
                        "ticks": "",
                        "zerolinecolor": "white"
                      }
                    },
                    "shapedefaults": {
                      "line": {
                        "color": "#2a3f5f"
                      }
                    },
                    "ternary": {
                      "aaxis": {
                        "gridcolor": "white",
                        "linecolor": "white",
                        "ticks": ""
                      },
                      "baxis": {
                        "gridcolor": "white",
                        "linecolor": "white",
                        "ticks": ""
                      },
                      "bgcolor": "#E5ECF6",
                      "caxis": {
                        "gridcolor": "white",
                        "linecolor": "white",
                        "ticks": ""
                      }
                    },
                    "title": {
                      "x": 0.05
                    },
                    "xaxis": {
                      "automargin": true,
                      "gridcolor": "white",
                      "linecolor": "white",
                      "ticks": "",
                      "title": {
                        "standoff": 15
                      },
                      "zerolinecolor": "white",
                      "zerolinewidth": 2
                    },
                    "yaxis": {
                      "automargin": true,
                      "gridcolor": "white",
                      "linecolor": "white",
                      "ticks": "",
                      "title": {
                        "standoff": 15
                      },
                      "zerolinecolor": "white",
                      "zerolinewidth": 2
                    }
                  }
                },
                "title": {
                  "text": "Кореляція між числовими параметрами квартири (без викидів)"
                },
                "xaxis": {
                  "anchor": "y",
                  "constrain": "domain",
                  "domain": [
                    0,
                    1
                  ],
                  "scaleanchor": "y"
                },
                "yaxis": {
                  "anchor": "x",
                  "autorange": "reversed",
                  "constrain": "domain",
                  "domain": [
                    0,
                    1
                  ]
                }
              }
            }
          },
          "metadata": {},
          "output_type": "display_data"
        }
      ],
      "source": [
        "# Матриця кореляцій для числових змінних\n",
        "correlation_matrix = df_clean.select_dtypes(include=['int64']).corr()\n",
        "\n",
        "# Візуалізація матриці кореляцій\n",
        "fig = px.imshow(\n",
        "    correlation_matrix,\n",
        "    text_auto='.2f',\n",
        "    color_continuous_scale='RdBu_r',\n",
        "    title='Кореляція між числовими параметрами квартири (без викидів)',\n",
        "    labels=dict(color=\"Кореляція\")\n",
        ")\n",
        "fig.update_layout(height=500)\n",
        "fig.show()"
      ]
    },
    {
      "cell_type": "markdown",
      "metadata": {},
      "source": [
        "Маємо помірну позитивну кореляцію між розміром орендної плати і кількістю кімнат, ваних кімнат, загальною площею квартири"
      ]
    },
    {
      "cell_type": "code",
      "execution_count": 13,
      "metadata": {},
      "outputs": [
        {
          "data": {
            "image/png": "[encoded data removed]",
            "text/plain": [
              "<Figure size 800x400 with 1 Axes>"
            ]
          },
          "metadata": {},
          "output_type": "display_data"
        }
      ],
      "source": [
        "# scatter plot Size vs Rent\n",
        "plt.figure(figsize=(8, 4))\n",
        "plt.scatter(df_clean['Size'], df_clean['Rent'], alpha=0.6, color='royalblue')\n",
        "\n",
        "plt.title('Зв\\'язок між розміром та орендною платою (без викидів)')\n",
        "plt.xlabel('Розмір (Size)')\n",
        "plt.ylabel('Орендна плата (Rent)')\n",
        "\n",
        "ax = plt.gca()\n",
        "ax.xaxis.set_major_formatter(plt.FuncFormatter(lambda x, p: f'{x:,.0f}'))\n",
        "ax.yaxis.set_major_formatter(plt.FuncFormatter(lambda x, p: f'{x:,.0f}'))\n",
        "\n",
        "plt.grid(True, alpha=0.3)\n",
        "plt.tight_layout()\n",
        "plt.show()"
      ]
    },
    {
      "cell_type": "code",
      "execution_count": 14,
      "metadata": {},
      "outputs": [
        {
          "data": {
            "image/png": "[encoded data removed]",
            "text/plain": [
              "<Figure size 800x400 with 1 Axes>"
            ]
          },
          "metadata": {},
          "output_type": "display_data"
        }
      ],
      "source": [
        "# BHK vs Rent boxplot\n",
        "plt.figure(figsize=(8, 4))\n",
        "sns.boxplot(data=df_clean, x='BHK', y='Rent')\n",
        "\n",
        "plt.title('Розподіл орендної плати за кількістю кімнат (BHK) без викидів')\n",
        "plt.xlabel('Кількість кімнат (BHK)')\n",
        "plt.ylabel('Орендна плата (Rent)')\n",
        "\n",
        "ax = plt.gca()\n",
        "ax.yaxis.set_major_formatter(plt.FuncFormatter(lambda x, p: f'{x:,.0f}'))\n",
        "\n",
        "plt.grid(True, alpha=0.3, axis='y')\n",
        "plt.tight_layout()\n",
        "plt.show()"
      ]
    },
    {
      "cell_type": "markdown",
      "metadata": {},
      "source": [
        "Бачимо, що розкид значень і медіанна орендна плата росте до 5 кінмант в квартирі, але для шестикімнатних медіана знижується. Одно і двокімнатні мають найбільше викидів - довгий правий хвіст. Це може свідчити про наявність елітних квартир з невеликою кількістю кімнат, але, наприклад, гарним ремонтом."
      ]
    },
    {
      "cell_type": "markdown",
      "metadata": {
        "id": "628c3b4f"
      },
      "source": [
        "## Завдання 4: Feature Engineering та підготовка даних (4 бали)\n",
        "\n",
        "**Що потрібно зробити:**\n",
        "1. Закодуйте категоріальні змінні за допомогою One-Hot Encoding. Пригадайте, що в лекції ми говорили щодо кодування кат. змінних з великої кількістю різних значень і як працювати з такими випадками. Ви можете закодувати не всі кат. змінні, а лише ті, що вважаєте за потрібні (скажімо ті, що мають відносно небагато різних значень).\n",
        "2. **Опціонально (по 0.5 бала за кожну доцільну ознаку):** Додайте нові ознаки, обчислені на основі наявних даних, які б на ваш погляд були корисними для моделі\n",
        "3. Виберіть ознаки для побудови моделі (виключіть непотрібні колонки). Виключити можна, наприклад, ті колонки, які мають категоріальний тип і забагато (більше 20) різних значень. Треба виключити хоча б 1 колонку.\n",
        "4. Розділіть дані на ознаки (X) та цільову змінну (y)\n",
        "5. Застосуйте стандартизацію до числових ознак\n"
      ]
    },
    {
      "cell_type": "markdown",
      "metadata": {},
      "source": [
        "1) Найбільше унікальних значень для колонок:\n",
        "- Posted On: 81 унікальних значень - дату розміщення оголошення можна не враховувати. Іноді, якщо оголошення є актуальним доволі довго, в ньому можуть знижувати ціну. Проте в даній моделі не будемо брати цей фактор до уваги.\n",
        "- Floor: 340 унікальних значень - колонка містить дані про поверх, а також загальну поверховість будинку. Зважаючи, що структура запису однакова, спробуємо витягнути окремо поверх і окремо поверховість будинку, можливо це допоможе знизити кількість значень.\n",
        "- Area Locality: 1997 унікальних значень при загальній кількості після видалення 4226 (максимальна кількість для одного значення 28) - використовувати такі дані напряму в моделі не раціонально. Якщо мати на меті їх використовувати, то можна на їх основі  робити обчислення типу района або інших характеристик з зовнішніх джерел, наприклад Places API від Google.\n",
        "\n",
        "Інші колонки містять 3-6 унікальних значень і можна обробити їх методом One-Hot Encoding. Проте:\n",
        "Колонка `Tenant Preferred` містить значення Bachelors, Family та Bachelors/Family - тобто фактично 2, а не 3, але для простоти моделі на першому етапі можна вважати їх різними.\n",
        "Колонка `Furnishing Status` містить значення Unfurnished, Semi-Furnished та Furnished. Тобто для цієї колонки можна використати метод Label Encoding.\n",
        "\n",
        "Отже, застосуємо One-Hot Encoding для колонок `Tenant Preferred`, `Area Type`, `City` та `Point of Contact`.\n",
        "Застосуємо Label Encoding до колонки `Furnishing Status`"
      ]
    },
    {
      "cell_type": "code",
      "execution_count": 15,
      "metadata": {},
      "outputs": [],
      "source": [
        "df_clean = df_clean.copy()"
      ]
    },
    {
      "cell_type": "code",
      "execution_count": 16,
      "metadata": {
        "id": "aOXZSaK2OX0Y"
      },
      "outputs": [],
      "source": [
        "# One-Hot Encoding\n",
        "tenant_dummies = pd.get_dummies(df_clean['Tenant Preferred'], prefix='Tenant')\n",
        "area_type_dummies = pd.get_dummies(df_clean['Area Type'], prefix='Area Type')\n",
        "city_dummies = pd.get_dummies(df_clean['City'], prefix='City')\n",
        "contact_dummies = pd.get_dummies(df_clean['Point of Contact'], prefix='Contact')"
      ]
    },
    {
      "cell_type": "code",
      "execution_count": 17,
      "metadata": {},
      "outputs": [],
      "source": [
        "# Label Encoding\n",
        "furnishing_mapping = {\n",
        "    'Unfurnished': 0,\n",
        "    'Semi-Furnished': 1, \n",
        "    'Furnished': 2\n",
        "}\n",
        "\n",
        "df_clean['Furnishing_Status_Encoded'] = df_clean['Furnishing Status'].map(furnishing_mapping)"
      ]
    },
    {
      "cell_type": "code",
      "execution_count": 18,
      "metadata": {},
      "outputs": [],
      "source": [
        "# Розділимо колонку Floor на дві числові Current_Floor та Total_Floors\n",
        "floor_split = df_clean['Floor'].str.split(' out of ', expand=True)\n",
        "\n",
        "df_clean['Current_Floor'] = floor_split[0]\n",
        "df_clean['Total_Floors'] = floor_split[1]\n",
        "    \n",
        "# Замінимо \"Ground\" на 0\n",
        "df_clean['Current_Floor'] = df_clean['Current_Floor'].replace({\n",
        "        'Ground': '0',\n",
        "        'Upper Basement': '-1',\n",
        "        'Lower Basement': '-2'\n",
        "    })\n",
        "    \n",
        "df_clean['Current_Floor'] = pd.to_numeric(df_clean['Current_Floor'])\n",
        "df_clean['Total_Floors'] = pd.to_numeric(df_clean['Total_Floors'])"
      ]
    },
    {
      "cell_type": "markdown",
      "metadata": {},
      "source": [
        "2. Додатково додам колонку відношення площі до кількості кімнат і ваних. При однаковій площі збільшення кількості кімнат може зіграти в мінус, бо кімнати будуть маленькі."
      ]
    },
    {
      "cell_type": "code",
      "execution_count": 19,
      "metadata": {},
      "outputs": [],
      "source": [
        "df_clean['Size_per_Room'] = df_clean['Size'] / (df_clean['BHK'] + df_clean['Bathroom'])"
      ]
    },
    {
      "cell_type": "markdown",
      "metadata": {},
      "source": [
        "Для моделі візьмемо усі числові колонки і додамо dummies. Невикористаними залишились значення колонок `Posted On` та `Area Locality`"
      ]
    },
    {
      "cell_type": "code",
      "execution_count": 20,
      "metadata": {},
      "outputs": [
        {
          "data": {
            "text/html": [
              "<div>\n",
              "<style scoped>\n",
              "    .dataframe tbody tr th:only-of-type {\n",
              "        vertical-align: middle;\n",
              "    }\n",
              "\n",
              "    .dataframe tbody tr th {\n",
              "        vertical-align: top;\n",
              "    }\n",
              "\n",
              "    .dataframe thead th {\n",
              "        text-align: right;\n",
              "    }\n",
              "</style>\n",
              "<table border=\"1\" class=\"dataframe\">\n",
              "  <thead>\n",
              "    <tr style=\"text-align: right;\">\n",
              "      <th></th>\n",
              "      <th>BHK</th>\n",
              "      <th>Rent</th>\n",
              "      <th>Size</th>\n",
              "      <th>Bathroom</th>\n",
              "      <th>Furnishing_Status_Encoded</th>\n",
              "      <th>Current_Floor</th>\n",
              "      <th>Total_Floors</th>\n",
              "      <th>Size_per_Room</th>\n",
              "      <th>Tenant_Bachelors</th>\n",
              "      <th>Tenant_Bachelors/Family</th>\n",
              "      <th>...</th>\n",
              "      <th>City_Delhi</th>\n",
              "      <th>City_Hyderabad</th>\n",
              "      <th>City_Kolkata</th>\n",
              "      <th>City_Mumbai</th>\n",
              "      <th>Area Type_Built Area</th>\n",
              "      <th>Area Type_Carpet Area</th>\n",
              "      <th>Area Type_Super Area</th>\n",
              "      <th>Contact_Contact Agent</th>\n",
              "      <th>Contact_Contact Builder</th>\n",
              "      <th>Contact_Contact Owner</th>\n",
              "    </tr>\n",
              "  </thead>\n",
              "  <tbody>\n",
              "    <tr>\n",
              "      <th>0</th>\n",
              "      <td>2</td>\n",
              "      <td>10000</td>\n",
              "      <td>1100</td>\n",
              "      <td>2</td>\n",
              "      <td>0</td>\n",
              "      <td>0</td>\n",
              "      <td>2.0</td>\n",
              "      <td>275.000000</td>\n",
              "      <td>False</td>\n",
              "      <td>True</td>\n",
              "      <td>...</td>\n",
              "      <td>False</td>\n",
              "      <td>False</td>\n",
              "      <td>True</td>\n",
              "      <td>False</td>\n",
              "      <td>False</td>\n",
              "      <td>False</td>\n",
              "      <td>True</td>\n",
              "      <td>False</td>\n",
              "      <td>False</td>\n",
              "      <td>True</td>\n",
              "    </tr>\n",
              "    <tr>\n",
              "      <th>1</th>\n",
              "      <td>2</td>\n",
              "      <td>20000</td>\n",
              "      <td>800</td>\n",
              "      <td>1</td>\n",
              "      <td>1</td>\n",
              "      <td>1</td>\n",
              "      <td>3.0</td>\n",
              "      <td>266.666667</td>\n",
              "      <td>False</td>\n",
              "      <td>True</td>\n",
              "      <td>...</td>\n",
              "      <td>False</td>\n",
              "      <td>False</td>\n",
              "      <td>True</td>\n",
              "      <td>False</td>\n",
              "      <td>False</td>\n",
              "      <td>False</td>\n",
              "      <td>True</td>\n",
              "      <td>False</td>\n",
              "      <td>False</td>\n",
              "      <td>True</td>\n",
              "    </tr>\n",
              "    <tr>\n",
              "      <th>2</th>\n",
              "      <td>2</td>\n",
              "      <td>17000</td>\n",
              "      <td>1000</td>\n",
              "      <td>1</td>\n",
              "      <td>1</td>\n",
              "      <td>1</td>\n",
              "      <td>3.0</td>\n",
              "      <td>333.333333</td>\n",
              "      <td>False</td>\n",
              "      <td>True</td>\n",
              "      <td>...</td>\n",
              "      <td>False</td>\n",
              "      <td>False</td>\n",
              "      <td>True</td>\n",
              "      <td>False</td>\n",
              "      <td>False</td>\n",
              "      <td>False</td>\n",
              "      <td>True</td>\n",
              "      <td>False</td>\n",
              "      <td>False</td>\n",
              "      <td>True</td>\n",
              "    </tr>\n",
              "    <tr>\n",
              "      <th>3</th>\n",
              "      <td>2</td>\n",
              "      <td>10000</td>\n",
              "      <td>800</td>\n",
              "      <td>1</td>\n",
              "      <td>0</td>\n",
              "      <td>1</td>\n",
              "      <td>2.0</td>\n",
              "      <td>266.666667</td>\n",
              "      <td>False</td>\n",
              "      <td>True</td>\n",
              "      <td>...</td>\n",
              "      <td>False</td>\n",
              "      <td>False</td>\n",
              "      <td>True</td>\n",
              "      <td>False</td>\n",
              "      <td>False</td>\n",
              "      <td>False</td>\n",
              "      <td>True</td>\n",
              "      <td>False</td>\n",
              "      <td>False</td>\n",
              "      <td>True</td>\n",
              "    </tr>\n",
              "    <tr>\n",
              "      <th>4</th>\n",
              "      <td>2</td>\n",
              "      <td>7500</td>\n",
              "      <td>850</td>\n",
              "      <td>1</td>\n",
              "      <td>0</td>\n",
              "      <td>1</td>\n",
              "      <td>2.0</td>\n",
              "      <td>283.333333</td>\n",
              "      <td>True</td>\n",
              "      <td>False</td>\n",
              "      <td>...</td>\n",
              "      <td>False</td>\n",
              "      <td>False</td>\n",
              "      <td>True</td>\n",
              "      <td>False</td>\n",
              "      <td>False</td>\n",
              "      <td>True</td>\n",
              "      <td>False</td>\n",
              "      <td>False</td>\n",
              "      <td>False</td>\n",
              "      <td>True</td>\n",
              "    </tr>\n",
              "  </tbody>\n",
              "</table>\n",
              "<p>5 rows × 23 columns</p>\n",
              "</div>"
            ],
            "text/plain": [
              "   BHK   Rent  Size  Bathroom  Furnishing_Status_Encoded  Current_Floor  \\\n",
              "0    2  10000  1100         2                          0              0   \n",
              "1    2  20000   800         1                          1              1   \n",
              "2    2  17000  1000         1                          1              1   \n",
              "3    2  10000   800         1                          0              1   \n",
              "4    2   7500   850         1                          0              1   \n",
              "\n",
              "   Total_Floors  Size_per_Room  Tenant_Bachelors  Tenant_Bachelors/Family  \\\n",
              "0           2.0     275.000000             False                     True   \n",
              "1           3.0     266.666667             False                     True   \n",
              "2           3.0     333.333333             False                     True   \n",
              "3           2.0     266.666667             False                     True   \n",
              "4           2.0     283.333333              True                    False   \n",
              "\n",
              "   ...  City_Delhi  City_Hyderabad  City_Kolkata  City_Mumbai  \\\n",
              "0  ...       False           False          True        False   \n",
              "1  ...       False           False          True        False   \n",
              "2  ...       False           False          True        False   \n",
              "3  ...       False           False          True        False   \n",
              "4  ...       False           False          True        False   \n",
              "\n",
              "   Area Type_Built Area  Area Type_Carpet Area  Area Type_Super Area  \\\n",
              "0                 False                  False                  True   \n",
              "1                 False                  False                  True   \n",
              "2                 False                  False                  True   \n",
              "3                 False                  False                  True   \n",
              "4                 False                   True                 False   \n",
              "\n",
              "   Contact_Contact Agent  Contact_Contact Builder  Contact_Contact Owner  \n",
              "0                  False                    False                   True  \n",
              "1                  False                    False                   True  \n",
              "2                  False                    False                   True  \n",
              "3                  False                    False                   True  \n",
              "4                  False                    False                   True  \n",
              "\n",
              "[5 rows x 23 columns]"
            ]
          },
          "execution_count": 20,
          "metadata": {},
          "output_type": "execute_result"
        }
      ],
      "source": [
        "df_clean_enr = pd.concat([\n",
        "    df_clean.select_dtypes(include=['number']),\n",
        "    tenant_dummies,\n",
        "    city_dummies,\n",
        "    area_type_dummies,\n",
        "    contact_dummies], axis=1)\n",
        "\n",
        "df_clean_enr.head()"
      ]
    },
    {
      "cell_type": "markdown",
      "metadata": {},
      "source": [
        "Ще раз перевіримо на порожні значення після усіх модифікацій"
      ]
    },
    {
      "cell_type": "code",
      "execution_count": 21,
      "metadata": {},
      "outputs": [
        {
          "data": {
            "text/plain": [
              "BHK                          0\n",
              "Rent                         0\n",
              "Size                         0\n",
              "Bathroom                     0\n",
              "Furnishing_Status_Encoded    0\n",
              "Current_Floor                0\n",
              "Total_Floors                 4\n",
              "Size_per_Room                0\n",
              "Tenant_Bachelors             0\n",
              "Tenant_Bachelors/Family      0\n",
              "Tenant_Family                0\n",
              "City_Bangalore               0\n",
              "City_Chennai                 0\n",
              "City_Delhi                   0\n",
              "City_Hyderabad               0\n",
              "City_Kolkata                 0\n",
              "City_Mumbai                  0\n",
              "Area Type_Built Area         0\n",
              "Area Type_Carpet Area        0\n",
              "Area Type_Super Area         0\n",
              "Contact_Contact Agent        0\n",
              "Contact_Contact Builder      0\n",
              "Contact_Contact Owner        0\n",
              "dtype: int64"
            ]
          },
          "execution_count": 21,
          "metadata": {},
          "output_type": "execute_result"
        }
      ],
      "source": [
        "df_clean_enr.isnull().sum()"
      ]
    },
    {
      "cell_type": "code",
      "execution_count": null,
      "metadata": {},
      "outputs": [],
      "source": [
        "# Видалимо рядки з відсутніми значеннями\n",
        "df_clean_enr = df_clean_enr[df_clean_enr['Total_Floors'].notnull()]"
      ]
    },
    {
      "cell_type": "code",
      "execution_count": 31,
      "metadata": {},
      "outputs": [
        {
          "name": "stdout",
          "output_type": "stream",
          "text": [
            "\n",
            "Розмір X (ознак): (4222, 22)\n",
            "Розмір y (цілі): (4222,)\n"
          ]
        }
      ],
      "source": [
        "# Визначимо X та y\n",
        "y = df_clean_enr['Rent']\n",
        "X = df_clean_enr.drop('Rent', axis=1)\n",
        "\n",
        "print(f\"\\nРозмір X (ознак): {X.shape}\")\n",
        "print(f\"Розмір y (цілі): {y.shape}\")"
      ]
    },
    {
      "cell_type": "code",
      "execution_count": 32,
      "metadata": {},
      "outputs": [],
      "source": [
        "from sklearn.preprocessing import StandardScaler"
      ]
    },
    {
      "cell_type": "code",
      "execution_count": 33,
      "metadata": {},
      "outputs": [],
      "source": [
        "# Створюємо та застосовуємо скейлер для стандартизації X\n",
        "scaler = StandardScaler()\n",
        "X_scaled = scaler.fit_transform(X)\n",
        "\n",
        "# Перетворюємо назад у DataFrame для зручності\n",
        "X_scaled_df = pd.DataFrame(X_scaled, columns=X.columns, index=X.index)"
      ]
    },
    {
      "cell_type": "markdown",
      "metadata": {
        "id": "dd7ef1d3"
      },
      "source": [
        "## Завдання 5: Розділення даних та навчання моделі (3 бали)\n",
        "\n",
        "**Що потрібно зробити:**\n",
        "1. Розділіть дані на навчальну (80%) та тестову (20%) вибірки.\n",
        "2. Створіть модель лінійної регресії.\n",
        "3. Навчіть модель на навчальних даних.\n",
        "4. Виведіть усі коефіцієнти моделі (ваги) та напишіть, які 2 ознаки найбільше впливають на прогноз.\n",
        "5. Зробіть прогнози на тренувальній та тестовій вибірках."
      ]
    },
    {
      "cell_type": "code",
      "execution_count": 34,
      "metadata": {
        "id": "SuQ2b116OYjR"
      },
      "outputs": [],
      "source": [
        "from sklearn.model_selection import train_test_split"
      ]
    },
    {
      "cell_type": "code",
      "execution_count": 35,
      "metadata": {},
      "outputs": [],
      "source": [
        "# Розділяємо дані: 80% на навчання, 20% на тест\n",
        "X_train, X_test, y_train, y_test = train_test_split(\n",
        "    X_scaled_df, y,\n",
        "    test_size=0.2,  # 20% даних йде на тест\n",
        "    random_state=42  # фіксуємо випадковість для відтворюваності\n",
        ")"
      ]
    },
    {
      "cell_type": "code",
      "execution_count": null,
      "metadata": {},
      "outputs": [
        {
          "data": {
            "text/html": [
              "<style>#sk-container-id-1 {\n",
              "  /* Definition of color scheme common for light and dark mode */\n",
              "  --sklearn-color-text: #000;\n",
              "  --sklearn-color-text-muted: #666;\n",
              "  --sklearn-color-line: gray;\n",
              "  /* Definition of color scheme for unfitted estimators */\n",
              "  --sklearn-color-unfitted-level-0: #fff5e6;\n",
              "  --sklearn-color-unfitted-level-1: #f6e4d2;\n",
              "  --sklearn-color-unfitted-level-2: #ffe0b3;\n",
              "  --sklearn-color-unfitted-level-3: chocolate;\n",
              "  /* Definition of color scheme for fitted estimators */\n",
              "  --sklearn-color-fitted-level-0: #f0f8ff;\n",
              "  --sklearn-color-fitted-level-1: #d4ebff;\n",
              "  --sklearn-color-fitted-level-2: #b3dbfd;\n",
              "  --sklearn-color-fitted-level-3: cornflowerblue;\n",
              "\n",
              "  /* Specific color for light theme */\n",
              "  --sklearn-color-text-on-default-background: var(--sg-text-color, var(--theme-code-foreground, var(--jp-content-font-color1, black)));\n",
              "  --sklearn-color-background: var(--sg-background-color, var(--theme-background, var(--jp-layout-color0, white)));\n",
              "  --sklearn-color-border-box: var(--sg-text-color, var(--theme-code-foreground, var(--jp-content-font-color1, black)));\n",
              "  --sklearn-color-icon: #696969;\n",
              "\n",
              "  @media (prefers-color-scheme: dark) {\n",
              "    /* Redefinition of color scheme for dark theme */\n",
              "    --sklearn-color-text-on-default-background: var(--sg-text-color, var(--theme-code-foreground, var(--jp-content-font-color1, white)));\n",
              "    --sklearn-color-background: var(--sg-background-color, var(--theme-background, var(--jp-layout-color0, #111)));\n",
              "    --sklearn-color-border-box: var(--sg-text-color, var(--theme-code-foreground, var(--jp-content-font-color1, white)));\n",
              "    --sklearn-color-icon: #878787;\n",
              "  }\n",
              "}\n",
              "\n",
              "#sk-container-id-1 {\n",
              "  color: var(--sklearn-color-text);\n",
              "}\n",
              "\n",
              "#sk-container-id-1 pre {\n",
              "  padding: 0;\n",
              "}\n",
              "\n",
              "#sk-container-id-1 input.sk-hidden--visually {\n",
              "  border: 0;\n",
              "  clip: rect(1px 1px 1px 1px);\n",
              "  clip: rect(1px, 1px, 1px, 1px);\n",
              "  height: 1px;\n",
              "  margin: -1px;\n",
              "  overflow: hidden;\n",
              "  padding: 0;\n",
              "  position: absolute;\n",
              "  width: 1px;\n",
              "}\n",
              "\n",
              "#sk-container-id-1 div.sk-dashed-wrapped {\n",
              "  border: 1px dashed var(--sklearn-color-line);\n",
              "  margin: 0 0.4em 0.5em 0.4em;\n",
              "  box-sizing: border-box;\n",
              "  padding-bottom: 0.4em;\n",
              "  background-color: var(--sklearn-color-background);\n",
              "}\n",
              "\n",
              "#sk-container-id-1 div.sk-container {\n",
              "  /* jupyter's `normalize.less` sets `[hidden] { display: none; }`\n",
              "     but bootstrap.min.css set `[hidden] { display: none !important; }`\n",
              "     so we also need the `!important` here to be able to override the\n",
              "     default hidden behavior on the sphinx rendered scikit-learn.org.\n",
              "     See: https://github.com/scikit-learn/scikit-learn/issues/21755 */\n",
              "  display: inline-block !important;\n",
              "  position: relative;\n",
              "}\n",
              "\n",
              "#sk-container-id-1 div.sk-text-repr-fallback {\n",
              "  display: none;\n",
              "}\n",
              "\n",
              "div.sk-parallel-item,\n",
              "div.sk-serial,\n",
              "div.sk-item {\n",
              "  /* draw centered vertical line to link estimators */\n",
              "  background-image: linear-gradient(var(--sklearn-color-text-on-default-background), var(--sklearn-color-text-on-default-background));\n",
              "  background-size: 2px 100%;\n",
              "  background-repeat: no-repeat;\n",
              "  background-position: center center;\n",
              "}\n",
              "\n",
              "/* Parallel-specific style estimator block */\n",
              "\n",
              "#sk-container-id-1 div.sk-parallel-item::after {\n",
              "  content: \"\";\n",
              "  width: 100%;\n",
              "  border-bottom: 2px solid var(--sklearn-color-text-on-default-background);\n",
              "  flex-grow: 1;\n",
              "}\n",
              "\n",
              "#sk-container-id-1 div.sk-parallel {\n",
              "  display: flex;\n",
              "  align-items: stretch;\n",
              "  justify-content: center;\n",
              "  background-color: var(--sklearn-color-background);\n",
              "  position: relative;\n",
              "}\n",
              "\n",
              "#sk-container-id-1 div.sk-parallel-item {\n",
              "  display: flex;\n",
              "  flex-direction: column;\n",
              "}\n",
              "\n",
              "#sk-container-id-1 div.sk-parallel-item:first-child::after {\n",
              "  align-self: flex-end;\n",
              "  width: 50%;\n",
              "}\n",
              "\n",
              "#sk-container-id-1 div.sk-parallel-item:last-child::after {\n",
              "  align-self: flex-start;\n",
              "  width: 50%;\n",
              "}\n",
              "\n",
              "#sk-container-id-1 div.sk-parallel-item:only-child::after {\n",
              "  width: 0;\n",
              "}\n",
              "\n",
              "/* Serial-specific style estimator block */\n",
              "\n",
              "#sk-container-id-1 div.sk-serial {\n",
              "  display: flex;\n",
              "  flex-direction: column;\n",
              "  align-items: center;\n",
              "  background-color: var(--sklearn-color-background);\n",
              "  padding-right: 1em;\n",
              "  padding-left: 1em;\n",
              "}\n",
              "\n",
              "\n",
              "/* Toggleable style: style used for estimator/Pipeline/ColumnTransformer box that is\n",
              "clickable and can be expanded/collapsed.\n",
              "- Pipeline and ColumnTransformer use this feature and define the default style\n",
              "- Estimators will overwrite some part of the style using the `sk-estimator` class\n",
              "*/\n",
              "\n",
              "/* Pipeline and ColumnTransformer style (default) */\n",
              "\n",
              "#sk-container-id-1 div.sk-toggleable {\n",
              "  /* Default theme specific background. It is overwritten whether we have a\n",
              "  specific estimator or a Pipeline/ColumnTransformer */\n",
              "  background-color: var(--sklearn-color-background);\n",
              "}\n",
              "\n",
              "/* Toggleable label */\n",
              "#sk-container-id-1 label.sk-toggleable__label {\n",
              "  cursor: pointer;\n",
              "  display: flex;\n",
              "  width: 100%;\n",
              "  margin-bottom: 0;\n",
              "  padding: 0.5em;\n",
              "  box-sizing: border-box;\n",
              "  text-align: center;\n",
              "  align-items: start;\n",
              "  justify-content: space-between;\n",
              "  gap: 0.5em;\n",
              "}\n",
              "\n",
              "#sk-container-id-1 label.sk-toggleable__label .caption {\n",
              "  font-size: 0.6rem;\n",
              "  font-weight: lighter;\n",
              "  color: var(--sklearn-color-text-muted);\n",
              "}\n",
              "\n",
              "#sk-container-id-1 label.sk-toggleable__label-arrow:before {\n",
              "  /* Arrow on the left of the label */\n",
              "  content: \"▸\";\n",
              "  float: left;\n",
              "  margin-right: 0.25em;\n",
              "  color: var(--sklearn-color-icon);\n",
              "}\n",
              "\n",
              "#sk-container-id-1 label.sk-toggleable__label-arrow:hover:before {\n",
              "  color: var(--sklearn-color-text);\n",
              "}\n",
              "\n",
              "/* Toggleable content - dropdown */\n",
              "\n",
              "#sk-container-id-1 div.sk-toggleable__content {\n",
              "  display: none;\n",
              "  text-align: left;\n",
              "  /* unfitted */\n",
              "  background-color: var(--sklearn-color-unfitted-level-0);\n",
              "}\n",
              "\n",
              "#sk-container-id-1 div.sk-toggleable__content.fitted {\n",
              "  /* fitted */\n",
              "  background-color: var(--sklearn-color-fitted-level-0);\n",
              "}\n",
              "\n",
              "#sk-container-id-1 div.sk-toggleable__content pre {\n",
              "  margin: 0.2em;\n",
              "  border-radius: 0.25em;\n",
              "  color: var(--sklearn-color-text);\n",
              "  /* unfitted */\n",
              "  background-color: var(--sklearn-color-unfitted-level-0);\n",
              "}\n",
              "\n",
              "#sk-container-id-1 div.sk-toggleable__content.fitted pre {\n",
              "  /* unfitted */\n",
              "  background-color: var(--sklearn-color-fitted-level-0);\n",
              "}\n",
              "\n",
              "#sk-container-id-1 input.sk-toggleable__control:checked~div.sk-toggleable__content {\n",
              "  /* Expand drop-down */\n",
              "  display: block;\n",
              "  width: 100%;\n",
              "  overflow: visible;\n",
              "}\n",
              "\n",
              "#sk-container-id-1 input.sk-toggleable__control:checked~label.sk-toggleable__label-arrow:before {\n",
              "  content: \"▾\";\n",
              "}\n",
              "\n",
              "/* Pipeline/ColumnTransformer-specific style */\n",
              "\n",
              "#sk-container-id-1 div.sk-label input.sk-toggleable__control:checked~label.sk-toggleable__label {\n",
              "  color: var(--sklearn-color-text);\n",
              "  background-color: var(--sklearn-color-unfitted-level-2);\n",
              "}\n",
              "\n",
              "#sk-container-id-1 div.sk-label.fitted input.sk-toggleable__control:checked~label.sk-toggleable__label {\n",
              "  background-color: var(--sklearn-color-fitted-level-2);\n",
              "}\n",
              "\n",
              "/* Estimator-specific style */\n",
              "\n",
              "/* Colorize estimator box */\n",
              "#sk-container-id-1 div.sk-estimator input.sk-toggleable__control:checked~label.sk-toggleable__label {\n",
              "  /* unfitted */\n",
              "  background-color: var(--sklearn-color-unfitted-level-2);\n",
              "}\n",
              "\n",
              "#sk-container-id-1 div.sk-estimator.fitted input.sk-toggleable__control:checked~label.sk-toggleable__label {\n",
              "  /* fitted */\n",
              "  background-color: var(--sklearn-color-fitted-level-2);\n",
              "}\n",
              "\n",
              "#sk-container-id-1 div.sk-label label.sk-toggleable__label,\n",
              "#sk-container-id-1 div.sk-label label {\n",
              "  /* The background is the default theme color */\n",
              "  color: var(--sklearn-color-text-on-default-background);\n",
              "}\n",
              "\n",
              "/* On hover, darken the color of the background */\n",
              "#sk-container-id-1 div.sk-label:hover label.sk-toggleable__label {\n",
              "  color: var(--sklearn-color-text);\n",
              "  background-color: var(--sklearn-color-unfitted-level-2);\n",
              "}\n",
              "\n",
              "/* Label box, darken color on hover, fitted */\n",
              "#sk-container-id-1 div.sk-label.fitted:hover label.sk-toggleable__label.fitted {\n",
              "  color: var(--sklearn-color-text);\n",
              "  background-color: var(--sklearn-color-fitted-level-2);\n",
              "}\n",
              "\n",
              "/* Estimator label */\n",
              "\n",
              "#sk-container-id-1 div.sk-label label {\n",
              "  font-family: monospace;\n",
              "  font-weight: bold;\n",
              "  display: inline-block;\n",
              "  line-height: 1.2em;\n",
              "}\n",
              "\n",
              "#sk-container-id-1 div.sk-label-container {\n",
              "  text-align: center;\n",
              "}\n",
              "\n",
              "/* Estimator-specific */\n",
              "#sk-container-id-1 div.sk-estimator {\n",
              "  font-family: monospace;\n",
              "  border: 1px dotted var(--sklearn-color-border-box);\n",
              "  border-radius: 0.25em;\n",
              "  box-sizing: border-box;\n",
              "  margin-bottom: 0.5em;\n",
              "  /* unfitted */\n",
              "  background-color: var(--sklearn-color-unfitted-level-0);\n",
              "}\n",
              "\n",
              "#sk-container-id-1 div.sk-estimator.fitted {\n",
              "  /* fitted */\n",
              "  background-color: var(--sklearn-color-fitted-level-0);\n",
              "}\n",
              "\n",
              "/* on hover */\n",
              "#sk-container-id-1 div.sk-estimator:hover {\n",
              "  /* unfitted */\n",
              "  background-color: var(--sklearn-color-unfitted-level-2);\n",
              "}\n",
              "\n",
              "#sk-container-id-1 div.sk-estimator.fitted:hover {\n",
              "  /* fitted */\n",
              "  background-color: var(--sklearn-color-fitted-level-2);\n",
              "}\n",
              "\n",
              "/* Specification for estimator info (e.g. \"i\" and \"?\") */\n",
              "\n",
              "/* Common style for \"i\" and \"?\" */\n",
              "\n",
              ".sk-estimator-doc-link,\n",
              "a:link.sk-estimator-doc-link,\n",
              "a:visited.sk-estimator-doc-link {\n",
              "  float: right;\n",
              "  font-size: smaller;\n",
              "  line-height: 1em;\n",
              "  font-family: monospace;\n",
              "  background-color: var(--sklearn-color-background);\n",
              "  border-radius: 1em;\n",
              "  height: 1em;\n",
              "  width: 1em;\n",
              "  text-decoration: none !important;\n",
              "  margin-left: 0.5em;\n",
              "  text-align: center;\n",
              "  /* unfitted */\n",
              "  border: var(--sklearn-color-unfitted-level-1) 1pt solid;\n",
              "  color: var(--sklearn-color-unfitted-level-1);\n",
              "}\n",
              "\n",
              ".sk-estimator-doc-link.fitted,\n",
              "a:link.sk-estimator-doc-link.fitted,\n",
              "a:visited.sk-estimator-doc-link.fitted {\n",
              "  /* fitted */\n",
              "  border: var(--sklearn-color-fitted-level-1) 1pt solid;\n",
              "  color: var(--sklearn-color-fitted-level-1);\n",
              "}\n",
              "\n",
              "/* On hover */\n",
              "div.sk-estimator:hover .sk-estimator-doc-link:hover,\n",
              ".sk-estimator-doc-link:hover,\n",
              "div.sk-label-container:hover .sk-estimator-doc-link:hover,\n",
              ".sk-estimator-doc-link:hover {\n",
              "  /* unfitted */\n",
              "  background-color: var(--sklearn-color-unfitted-level-3);\n",
              "  color: var(--sklearn-color-background);\n",
              "  text-decoration: none;\n",
              "}\n",
              "\n",
              "div.sk-estimator.fitted:hover .sk-estimator-doc-link.fitted:hover,\n",
              ".sk-estimator-doc-link.fitted:hover,\n",
              "div.sk-label-container:hover .sk-estimator-doc-link.fitted:hover,\n",
              ".sk-estimator-doc-link.fitted:hover {\n",
              "  /* fitted */\n",
              "  background-color: var(--sklearn-color-fitted-level-3);\n",
              "  color: var(--sklearn-color-background);\n",
              "  text-decoration: none;\n",
              "}\n",
              "\n",
              "/* Span, style for the box shown on hovering the info icon */\n",
              ".sk-estimator-doc-link span {\n",
              "  display: none;\n",
              "  z-index: 9999;\n",
              "  position: relative;\n",
              "  font-weight: normal;\n",
              "  right: .2ex;\n",
              "  padding: .5ex;\n",
              "  margin: .5ex;\n",
              "  width: min-content;\n",
              "  min-width: 20ex;\n",
              "  max-width: 50ex;\n",
              "  color: var(--sklearn-color-text);\n",
              "  box-shadow: 2pt 2pt 4pt #999;\n",
              "  /* unfitted */\n",
              "  background: var(--sklearn-color-unfitted-level-0);\n",
              "  border: .5pt solid var(--sklearn-color-unfitted-level-3);\n",
              "}\n",
              "\n",
              ".sk-estimator-doc-link.fitted span {\n",
              "  /* fitted */\n",
              "  background: var(--sklearn-color-fitted-level-0);\n",
              "  border: var(--sklearn-color-fitted-level-3);\n",
              "}\n",
              "\n",
              ".sk-estimator-doc-link:hover span {\n",
              "  display: block;\n",
              "}\n",
              "\n",
              "/* \"?\"-specific style due to the `<a>` HTML tag */\n",
              "\n",
              "#sk-container-id-1 a.estimator_doc_link {\n",
              "  float: right;\n",
              "  font-size: 1rem;\n",
              "  line-height: 1em;\n",
              "  font-family: monospace;\n",
              "  background-color: var(--sklearn-color-background);\n",
              "  border-radius: 1rem;\n",
              "  height: 1rem;\n",
              "  width: 1rem;\n",
              "  text-decoration: none;\n",
              "  /* unfitted */\n",
              "  color: var(--sklearn-color-unfitted-level-1);\n",
              "  border: var(--sklearn-color-unfitted-level-1) 1pt solid;\n",
              "}\n",
              "\n",
              "#sk-container-id-1 a.estimator_doc_link.fitted {\n",
              "  /* fitted */\n",
              "  border: var(--sklearn-color-fitted-level-1) 1pt solid;\n",
              "  color: var(--sklearn-color-fitted-level-1);\n",
              "}\n",
              "\n",
              "/* On hover */\n",
              "#sk-container-id-1 a.estimator_doc_link:hover {\n",
              "  /* unfitted */\n",
              "  background-color: var(--sklearn-color-unfitted-level-3);\n",
              "  color: var(--sklearn-color-background);\n",
              "  text-decoration: none;\n",
              "}\n",
              "\n",
              "#sk-container-id-1 a.estimator_doc_link.fitted:hover {\n",
              "  /* fitted */\n",
              "  background-color: var(--sklearn-color-fitted-level-3);\n",
              "}\n",
              "\n",
              ".estimator-table summary {\n",
              "    padding: .5rem;\n",
              "    font-family: monospace;\n",
              "    cursor: pointer;\n",
              "}\n",
              "\n",
              ".estimator-table details[open] {\n",
              "    padding-left: 0.1rem;\n",
              "    padding-right: 0.1rem;\n",
              "    padding-bottom: 0.3rem;\n",
              "}\n",
              "\n",
              ".estimator-table .parameters-table {\n",
              "    margin-left: auto !important;\n",
              "    margin-right: auto !important;\n",
              "}\n",
              "\n",
              ".estimator-table .parameters-table tr:nth-child(odd) {\n",
              "    background-color: #fff;\n",
              "}\n",
              "\n",
              ".estimator-table .parameters-table tr:nth-child(even) {\n",
              "    background-color: #f6f6f6;\n",
              "}\n",
              "\n",
              ".estimator-table .parameters-table tr:hover {\n",
              "    background-color: #e0e0e0;\n",
              "}\n",
              "\n",
              ".estimator-table table td {\n",
              "    border: 1px solid rgba(106, 105, 104, 0.232);\n",
              "}\n",
              "\n",
              ".user-set td {\n",
              "    color:rgb(255, 94, 0);\n",
              "    text-align: left;\n",
              "}\n",
              "\n",
              ".user-set td.value pre {\n",
              "    color:rgb(255, 94, 0) !important;\n",
              "    background-color: transparent !important;\n",
              "}\n",
              "\n",
              ".default td {\n",
              "    color: black;\n",
              "    text-align: left;\n",
              "}\n",
              "\n",
              ".user-set td i,\n",
              ".default td i {\n",
              "    color: black;\n",
              "}\n",
              "\n",
              ".copy-paste-icon {\n",
              "    background-image: url(data:image/svg+xml;base64,PHN2ZyB4bWxucz0iaHR0cDovL3d3dy53My5vcmcvMjAwMC9zdmciIHZpZXdCb3g9IjAgMCA0NDggNTEyIj48IS0tIUZvbnQgQXdlc29tZSBGcmVlIDYuNy4yIGJ5IEBmb250YXdlc29tZSAtIGh0dHBzOi8vZm9udGF3ZXNvbWUuY29tIExpY2Vuc2UgLSBodHRwczovL2ZvbnRhd2Vzb21lLmNvbS9saWNlbnNlL2ZyZWUgQ29weXJpZ2h0IDIwMjUgRm9udGljb25zLCBJbmMuLS0+PHBhdGggZD0iTTIwOCAwTDMzMi4xIDBjMTIuNyAwIDI0LjkgNS4xIDMzLjkgMTQuMWw2Ny45IDY3LjljOSA5IDE0LjEgMjEuMiAxNC4xIDMzLjlMNDQ4IDMzNmMwIDI2LjUtMjEuNSA0OC00OCA0OGwtMTkyIDBjLTI2LjUgMC00OC0yMS41LTQ4LTQ4bDAtMjg4YzAtMjYuNSAyMS41LTQ4IDQ4LTQ4ek00OCAxMjhsODAgMCAwIDY0LTY0IDAgMCAyNTYgMTkyIDAgMC0zMiA2NCAwIDAgNDhjMCAyNi41LTIxLjUgNDgtNDggNDhMNDggNTEyYy0yNi41IDAtNDgtMjEuNS00OC00OEwwIDE3NmMwLTI2LjUgMjEuNS00OCA0OC00OHoiLz48L3N2Zz4=);\n",
              "    background-repeat: no-repeat;\n",
              "    background-size: 14px 14px;\n",
              "    background-position: 0;\n",
              "    display: inline-block;\n",
              "    width: 14px;\n",
              "    height: 14px;\n",
              "    cursor: pointer;\n",
              "}\n",
              "</style><body><div id=\"sk-container-id-1\" class=\"sk-top-container\"><div class=\"sk-text-repr-fallback\"><pre>LinearRegression()</pre><b>In a Jupyter environment, please rerun this cell to show the HTML representation or trust the notebook. <br />On GitHub, the HTML representation is unable to render, please try loading this page with nbviewer.org.</b></div><div class=\"sk-container\" hidden><div class=\"sk-item\"><div class=\"sk-estimator fitted sk-toggleable\"><input class=\"sk-toggleable__control sk-hidden--visually\" id=\"sk-estimator-id-1\" type=\"checkbox\" checked><label for=\"sk-estimator-id-1\" class=\"sk-toggleable__label fitted sk-toggleable__label-arrow\"><div><div>LinearRegression</div></div><div><a class=\"sk-estimator-doc-link fitted\" rel=\"noreferrer\" target=\"_blank\" href=\"https://scikit-learn.org/1.7/modules/generated/sklearn.linear_model.LinearRegression.html\">?<span>Documentation for LinearRegression</span></a><span class=\"sk-estimator-doc-link fitted\">i<span>Fitted</span></span></div></label><div class=\"sk-toggleable__content fitted\" data-param-prefix=\"\">\n",
              "        <div class=\"estimator-table\">\n",
              "            <details>\n",
              "                <summary>Parameters</summary>\n",
              "                <table class=\"parameters-table\">\n",
              "                  <tbody>\n",
              "                    \n",
              "        <tr class=\"default\">\n",
              "            <td><i class=\"copy-paste-icon\"\n",
              "                 onclick=\"copyToClipboard('fit_intercept',\n",
              "                          this.parentElement.nextElementSibling)\"\n",
              "            ></i></td>\n",
              "            <td class=\"param\">fit_intercept&nbsp;</td>\n",
              "            <td class=\"value\">True</td>\n",
              "        </tr>\n",
              "    \n",
              "\n",
              "        <tr class=\"default\">\n",
              "            <td><i class=\"copy-paste-icon\"\n",
              "                 onclick=\"copyToClipboard('copy_X',\n",
              "                          this.parentElement.nextElementSibling)\"\n",
              "            ></i></td>\n",
              "            <td class=\"param\">copy_X&nbsp;</td>\n",
              "            <td class=\"value\">True</td>\n",
              "        </tr>\n",
              "    \n",
              "\n",
              "        <tr class=\"default\">\n",
              "            <td><i class=\"copy-paste-icon\"\n",
              "                 onclick=\"copyToClipboard('tol',\n",
              "                          this.parentElement.nextElementSibling)\"\n",
              "            ></i></td>\n",
              "            <td class=\"param\">tol&nbsp;</td>\n",
              "            <td class=\"value\">1e-06</td>\n",
              "        </tr>\n",
              "    \n",
              "\n",
              "        <tr class=\"default\">\n",
              "            <td><i class=\"copy-paste-icon\"\n",
              "                 onclick=\"copyToClipboard('n_jobs',\n",
              "                          this.parentElement.nextElementSibling)\"\n",
              "            ></i></td>\n",
              "            <td class=\"param\">n_jobs&nbsp;</td>\n",
              "            <td class=\"value\">None</td>\n",
              "        </tr>\n",
              "    \n",
              "\n",
              "        <tr class=\"default\">\n",
              "            <td><i class=\"copy-paste-icon\"\n",
              "                 onclick=\"copyToClipboard('positive',\n",
              "                          this.parentElement.nextElementSibling)\"\n",
              "            ></i></td>\n",
              "            <td class=\"param\">positive&nbsp;</td>\n",
              "            <td class=\"value\">False</td>\n",
              "        </tr>\n",
              "    \n",
              "                  </tbody>\n",
              "                </table>\n",
              "            </details>\n",
              "        </div>\n",
              "    </div></div></div></div></div><script>function copyToClipboard(text, element) {\n",
              "    // Get the parameter prefix from the closest toggleable content\n",
              "    const toggleableContent = element.closest('.sk-toggleable__content');\n",
              "    const paramPrefix = toggleableContent ? toggleableContent.dataset.paramPrefix : '';\n",
              "    const fullParamName = paramPrefix ? `${paramPrefix}${text}` : text;\n",
              "\n",
              "    const originalStyle = element.style;\n",
              "    const computedStyle = window.getComputedStyle(element);\n",
              "    const originalWidth = computedStyle.width;\n",
              "    const originalHTML = element.innerHTML.replace('Copied!', '');\n",
              "\n",
              "    navigator.clipboard.writeText(fullParamName)\n",
              "        .then(() => {\n",
              "            element.style.width = originalWidth;\n",
              "            element.style.color = 'green';\n",
              "            element.innerHTML = \"Copied!\";\n",
              "\n",
              "            setTimeout(() => {\n",
              "                element.innerHTML = originalHTML;\n",
              "                element.style = originalStyle;\n",
              "            }, 2000);\n",
              "        })\n",
              "        .catch(err => {\n",
              "            console.error('Failed to copy:', err);\n",
              "            element.style.color = 'red';\n",
              "            element.innerHTML = \"Failed!\";\n",
              "            setTimeout(() => {\n",
              "                element.innerHTML = originalHTML;\n",
              "                element.style = originalStyle;\n",
              "            }, 2000);\n",
              "        });\n",
              "    return false;\n",
              "}\n",
              "\n",
              "document.querySelectorAll('.fa-regular.fa-copy').forEach(function(element) {\n",
              "    const toggleableContent = element.closest('.sk-toggleable__content');\n",
              "    const paramPrefix = toggleableContent ? toggleableContent.dataset.paramPrefix : '';\n",
              "    const paramName = element.parentElement.nextElementSibling.textContent.trim();\n",
              "    const fullParamName = paramPrefix ? `${paramPrefix}${paramName}` : paramName;\n",
              "\n",
              "    element.setAttribute('title', fullParamName);\n",
              "});\n",
              "</script></body>"
            ],
            "text/plain": [
              "LinearRegression()"
            ]
          },
          "execution_count": 36,
          "metadata": {},
          "output_type": "execute_result"
        }
      ],
      "source": [
        "# Створюємо модель лінійної регресії і навчаємо її\n",
        "from sklearn.linear_model import LinearRegression\n",
        "\n",
        "model = LinearRegression()\n",
        "model.fit(X_train, y_train)"
      ]
    },
    {
      "cell_type": "code",
      "execution_count": 37,
      "metadata": {},
      "outputs": [
        {
          "name": "stdout",
          "output_type": "stream",
          "text": [
            "BHK: 2533.22\n",
            "Size: 3652.37\n",
            "Bathroom: 1849.07\n",
            "Furnishing_Status_Encoded: 1390.60\n",
            "Current_Floor: -201.45\n",
            "Total_Floors: 1967.31\n",
            "Size_per_Room: 66.92\n",
            "Tenant_Bachelors: 366.49\n",
            "Tenant_Bachelors/Family: -14.35\n",
            "Tenant_Family: -460.85\n",
            "City_Bangalore: -776.94\n",
            "City_Chennai: -1040.91\n",
            "City_Delhi: 269.29\n",
            "City_Hyderabad: -1671.61\n",
            "City_Kolkata: -1427.91\n",
            "City_Mumbai: 5071.91\n",
            "Area Type_Built Area: 56.19\n",
            "Area Type_Carpet Area: 31.34\n",
            "Area Type_Super Area: -33.80\n",
            "Contact_Contact Agent: 1709.40\n",
            "Contact_Contact Builder: -4.33\n",
            "Contact_Contact Owner: -1708.71\n",
            "\n",
            "Зміщення (intercept): 19380.08\n"
          ]
        }
      ],
      "source": [
        "# Виводимо ваги для кожної ознаки\n",
        "for feature, weight in zip(model.feature_names_in_, model.coef_):\n",
        "    print(f\"{feature}: {weight:.2f}\")\n",
        "\n",
        "print(f\"\\nЗміщення (intercept): {model.intercept_:.2f}\")"
      ]
    },
    {
      "cell_type": "markdown",
      "metadata": {},
      "source": [
        "На прогноз найбільше впливають:\n",
        "- Розташування в місті Mumbai - збільшує орендну плату на 5071.91\n",
        "- Площа  - збільшує орендну плату на 3652.37 на одиницю площі\n",
        "- Кількість кімнат - збільшує орендну плату на 2533.22 на кімнату\n",
        "\n",
        "Цікаво, що контакт з власником і агентом мають майже однаковий вплив, але з протилежним знаком. Логічно контакт через агента збільшує орендну плату, а контакт напряму з власником - зменшує."
      ]
    },
    {
      "cell_type": "code",
      "execution_count": 38,
      "metadata": {},
      "outputs": [
        {
          "name": "stdout",
          "output_type": "stream",
          "text": [
            "Приклади прогнозів на тестовій вибірці:\n",
            "   Реальна орендна плата  Прогнозована орендна плата  Помилка\n",
            "0                   3300                       -38.0   3338.0\n",
            "1                  13000                     16064.0  -3064.0\n",
            "2                   9000                      6815.0   2185.0\n",
            "3                  15000                     16428.0  -1428.0\n",
            "4                  25000                     22249.0   2751.0\n",
            "5                  14000                     23957.0  -9957.0\n",
            "6                   7500                      7604.0   -104.0\n",
            "7                  15000                     12405.0   2595.0\n",
            "8                  20000                     26504.0  -6504.0\n",
            "9                  14000                     24659.0 -10659.0\n"
          ]
        }
      ],
      "source": [
        "# Прогнози на навчальній вибірці\n",
        "y_train_pred = model.predict(X_train)\n",
        "\n",
        "# Прогнози на тестовій вибірці (нові дані!)\n",
        "y_test_pred = model.predict(X_test)\n",
        "\n",
        "# Порівняння перших 10 прогнозів з реальністю\n",
        "comparison = pd.DataFrame({\n",
        "    'Реальна орендна плата': y_test.values[:10],\n",
        "    'Прогнозована орендна плата': y_test_pred[:10].round(0),\n",
        "    'Помилка': (y_test.values[:10] - y_test_pred[:10]).round(0)\n",
        "})\n",
        "print(\"Приклади прогнозів на тестовій вибірці:\")\n",
        "print(comparison)"
      ]
    },
    {
      "cell_type": "markdown",
      "metadata": {
        "id": "ca7cd90d"
      },
      "source": [
        "## Завдання 6: Оцінка якості моделі (2 бали)\n",
        "\n",
        "**Що потрібно зробити:**\n",
        "1. Обчисліть MAE, RMSE та R² для навчальної та тестової вибірок\n",
        "2. Порівняйте метрики та зробіть висновок про якість моделі\n",
        "3. Проаналізуйте і дайте висновок, чи є ознаки перенавчання або недонавчання (**Нагадування**: перенавчання - коли модель дуже добре працює на тренувальних даних, але погано на тестових; недонавчання - коли модель погано працює навіть на тренувальних даних)\n",
        "4. Побудуйте графік розсіювання \"реальні vs прогнозовані значення\" та зробіть висновок про якість моделі\n"
      ]
    },
    {
      "cell_type": "code",
      "execution_count": 41,
      "metadata": {
        "id": "476GoOrAOZS4"
      },
      "outputs": [
        {
          "name": "stdout",
          "output_type": "stream",
          "text": [
            "==================================================\n",
            "МЕТРИКИ ЯКОСТІ МОДЕЛІ (на тестовій вибірці):\n",
            "==================================================\n",
            "\n",
            "MAE: 5264.75 рупій\n",
            "RMSE: 7359.10 рупій\n",
            "R²: 0.708\n",
            "==================================================\n",
            "МЕТРИКИ ЯКОСТІ МОДЕЛІ на тренувальній вибірці:\n",
            "==================================================\n",
            "\n",
            "MAE: 5494.94 рупій\n",
            "RMSE: 7644.58 рупій\n",
            "R²: 0.697\n"
          ]
        }
      ],
      "source": [
        "from sklearn.metrics import mean_absolute_error, mean_squared_error, r2_score\n",
        "\n",
        "# Метрики якості моделі для тестової вибірки\n",
        "mae = mean_absolute_error(y_test, y_test_pred)\n",
        "mse = mean_squared_error(y_test, y_test_pred)\n",
        "rmse = np.sqrt(mse)\n",
        "r2 = r2_score(y_test, y_test_pred)\n",
        "\n",
        "print(\"=\"*50)\n",
        "print(\"МЕТРИКИ ЯКОСТІ МОДЕЛІ (на тестовій вибірці):\")\n",
        "print(\"=\"*50)\n",
        "print(f\"\\nMAE: {mae:.2f} рупій\")\n",
        "print(f\"RMSE: {rmse:.2f} рупій\")\n",
        "print(f\"R²: {r2:.3f}\")\n",
        "\n",
        "# Метрики якості моделі для навчальної вибірки\n",
        "mae = mean_absolute_error(y_train, y_train_pred)\n",
        "mse = mean_squared_error(y_train, y_train_pred)\n",
        "rmse = np.sqrt(mse)\n",
        "r2_train = r2_score(y_train, y_train_pred)\n",
        "\n",
        "print(\"=\"*50)\n",
        "print(\"МЕТРИКИ ЯКОСТІ МОДЕЛІ на тренувальній вибірці:\")\n",
        "print(\"=\"*50)\n",
        "print(f\"\\nMAE: {mae:.2f} рупій\")\n",
        "print(f\"RMSE: {rmse:.2f} рупій\")\n",
        "print(f\"R²: {r2_train:.3f}\")"
      ]
    },
    {
      "cell_type": "markdown",
      "metadata": {},
      "source": [
        "MAE приблизно в 3,5 рази менше за середнє значення Rent. RMSE більше за MAE, що говорить, що помилки різні. Це може пояснюватись наявністю в вибірці викідів для одно- та двокімнатних квартир.\n",
        "При цьому R² має достатньо високе значення - 0.708 для тестової вибірки, а на тренувальній трохи менше. Отже модель пояснює приблизно 70% варіації, що є непоганим результатом\n",
        "\n",
        "Ознак перенавчання немає - значення помилок на тренувальній вибірці вище ніж на тестовій, а R² менше. Недонавчання також немає, хоч R² менше на тренувальній вибірці, але не набагато."
      ]
    },
    {
      "cell_type": "code",
      "execution_count": 45,
      "metadata": {},
      "outputs": [
        {
          "data": {
            "application/vnd.plotly.v1+json": {
              "config": {
                "plotlyServerURL": "https://plot.ly"
              },
              "data": [
                {
                  "hovertemplate": "Реальна вартість=%{x}<br>Прогнозована вартість=%{y}<extra></extra>",
                  "legendgroup": "",
                  "marker": {
                    "color": "#636efa",
                    "opacity": 0.6,
                    "symbol": "circle"
                  },
                  "mode": "markers",
                  "name": "",
                  "orientation": "v",
                  "showlegend": false,
                  "type": "scatter",
                  "x": {
                    "bdata": "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",
                    "dtype": "i4"
                  },
                  "xaxis": "x",
                  "y": {
                    "bdata": "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",
                    "dtype": "f8"
                  },
                  "yaxis": "y"
                },
                {
                  "line": {
                    "color": "red",
                    "dash": "dash"
                  },
                  "mode": "lines",
                  "name": "Ідеальний прогноз",
                  "type": "scatter",
                  "x": [
                    0,
                    67000
                  ],
                  "y": [
                    0,
                    67000
                  ]
                }
              ],
              "layout": {
                "height": 500,
                "legend": {
                  "tracegroupgap": 0
                },
                "template": {
                  "data": {
                    "bar": [
                      {
                        "error_x": {
                          "color": "#2a3f5f"
                        },
                        "error_y": {
                          "color": "#2a3f5f"
                        },
                        "marker": {
                          "line": {
                            "color": "#E5ECF6",
                            "width": 0.5
                          },
                          "pattern": {
                            "fillmode": "overlay",
                            "size": 10,
                            "solidity": 0.2
                          }
                        },
                        "type": "bar"
                      }
                    ],
                    "barpolar": [
                      {
                        "marker": {
                          "line": {
                            "color": "#E5ECF6",
                            "width": 0.5
                          },
                          "pattern": {
                            "fillmode": "overlay",
                            "size": 10,
                            "solidity": 0.2
                          }
                        },
                        "type": "barpolar"
                      }
                    ],
                    "carpet": [
                      {
                        "aaxis": {
                          "endlinecolor": "#2a3f5f",
                          "gridcolor": "white",
                          "linecolor": "white",
                          "minorgridcolor": "white",
                          "startlinecolor": "#2a3f5f"
                        },
                        "baxis": {
                          "endlinecolor": "#2a3f5f",
                          "gridcolor": "white",
                          "linecolor": "white",
                          "minorgridcolor": "white",
                          "startlinecolor": "#2a3f5f"
                        },
                        "type": "carpet"
                      }
                    ],
                    "choropleth": [
                      {
                        "colorbar": {
                          "outlinewidth": 0,
                          "ticks": ""
                        },
                        "type": "choropleth"
                      }
                    ],
                    "contour": [
                      {
                        "colorbar": {
                          "outlinewidth": 0,
                          "ticks": ""
                        },
                        "colorscale": [
                          [
                            0,
                            "#0d0887"
                          ],
                          [
                            0.1111111111111111,
                            "#46039f"
                          ],
                          [
                            0.2222222222222222,
                            "#7201a8"
                          ],
                          [
                            0.3333333333333333,
                            "#9c179e"
                          ],
                          [
                            0.4444444444444444,
                            "#bd3786"
                          ],
                          [
                            0.5555555555555556,
                            "#d8576b"
                          ],
                          [
                            0.6666666666666666,
                            "#ed7953"
                          ],
                          [
                            0.7777777777777778,
                            "#fb9f3a"
                          ],
                          [
                            0.8888888888888888,
                            "#fdca26"
                          ],
                          [
                            1,
                            "#f0f921"
                          ]
                        ],
                        "type": "contour"
                      }
                    ],
                    "contourcarpet": [
                      {
                        "colorbar": {
                          "outlinewidth": 0,
                          "ticks": ""
                        },
                        "type": "contourcarpet"
                      }
                    ],
                    "heatmap": [
                      {
                        "colorbar": {
                          "outlinewidth": 0,
                          "ticks": ""
                        },
                        "colorscale": [
                          [
                            0,
                            "#0d0887"
                          ],
                          [
                            0.1111111111111111,
                            "#46039f"
                          ],
                          [
                            0.2222222222222222,
                            "#7201a8"
                          ],
                          [
                            0.3333333333333333,
                            "#9c179e"
                          ],
                          [
                            0.4444444444444444,
                            "#bd3786"
                          ],
                          [
                            0.5555555555555556,
                            "#d8576b"
                          ],
                          [
                            0.6666666666666666,
                            "#ed7953"
                          ],
                          [
                            0.7777777777777778,
                            "#fb9f3a"
                          ],
                          [
                            0.8888888888888888,
                            "#fdca26"
                          ],
                          [
                            1,
                            "#f0f921"
                          ]
                        ],
                        "type": "heatmap"
                      }
                    ],
                    "histogram": [
                      {
                        "marker": {
                          "pattern": {
                            "fillmode": "overlay",
                            "size": 10,
                            "solidity": 0.2
                          }
                        },
                        "type": "histogram"
                      }
                    ],
                    "histogram2d": [
                      {
                        "colorbar": {
                          "outlinewidth": 0,
                          "ticks": ""
                        },
                        "colorscale": [
                          [
                            0,
                            "#0d0887"
                          ],
                          [
                            0.1111111111111111,
                            "#46039f"
                          ],
                          [
                            0.2222222222222222,
                            "#7201a8"
                          ],
                          [
                            0.3333333333333333,
                            "#9c179e"
                          ],
                          [
                            0.4444444444444444,
                            "#bd3786"
                          ],
                          [
                            0.5555555555555556,
                            "#d8576b"
                          ],
                          [
                            0.6666666666666666,
                            "#ed7953"
                          ],
                          [
                            0.7777777777777778,
                            "#fb9f3a"
                          ],
                          [
                            0.8888888888888888,
                            "#fdca26"
                          ],
                          [
                            1,
                            "#f0f921"
                          ]
                        ],
                        "type": "histogram2d"
                      }
                    ],
                    "histogram2dcontour": [
                      {
                        "colorbar": {
                          "outlinewidth": 0,
                          "ticks": ""
                        },
                        "colorscale": [
                          [
                            0,
                            "#0d0887"
                          ],
                          [
                            0.1111111111111111,
                            "#46039f"
                          ],
                          [
                            0.2222222222222222,
                            "#7201a8"
                          ],
                          [
                            0.3333333333333333,
                            "#9c179e"
                          ],
                          [
                            0.4444444444444444,
                            "#bd3786"
                          ],
                          [
                            0.5555555555555556,
                            "#d8576b"
                          ],
                          [
                            0.6666666666666666,
                            "#ed7953"
                          ],
                          [
                            0.7777777777777778,
                            "#fb9f3a"
                          ],
                          [
                            0.8888888888888888,
                            "#fdca26"
                          ],
                          [
                            1,
                            "#f0f921"
                          ]
                        ],
                        "type": "histogram2dcontour"
                      }
                    ],
                    "mesh3d": [
                      {
                        "colorbar": {
                          "outlinewidth": 0,
                          "ticks": ""
                        },
                        "type": "mesh3d"
                      }
                    ],
                    "parcoords": [
                      {
                        "line": {
                          "colorbar": {
                            "outlinewidth": 0,
                            "ticks": ""
                          }
                        },
                        "type": "parcoords"
                      }
                    ],
                    "pie": [
                      {
                        "automargin": true,
                        "type": "pie"
                      }
                    ],
                    "scatter": [
                      {
                        "fillpattern": {
                          "fillmode": "overlay",
                          "size": 10,
                          "solidity": 0.2
                        },
                        "type": "scatter"
                      }
                    ],
                    "scatter3d": [
                      {
                        "line": {
                          "colorbar": {
                            "outlinewidth": 0,
                            "ticks": ""
                          }
                        },
                        "marker": {
                          "colorbar": {
                            "outlinewidth": 0,
                            "ticks": ""
                          }
                        },
                        "type": "scatter3d"
                      }
                    ],
                    "scattercarpet": [
                      {
                        "marker": {
                          "colorbar": {
                            "outlinewidth": 0,
                            "ticks": ""
                          }
                        },
                        "type": "scattercarpet"
                      }
                    ],
                    "scattergeo": [
                      {
                        "marker": {
                          "colorbar": {
                            "outlinewidth": 0,
                            "ticks": ""
                          }
                        },
                        "type": "scattergeo"
                      }
                    ],
                    "scattergl": [
                      {
                        "marker": {
                          "colorbar": {
                            "outlinewidth": 0,
                            "ticks": ""
                          }
                        },
                        "type": "scattergl"
                      }
                    ],
                    "scattermap": [
                      {
                        "marker": {
                          "colorbar": {
                            "outlinewidth": 0,
                            "ticks": ""
                          }
                        },
                        "type": "scattermap"
                      }
                    ],
                    "scattermapbox": [
                      {
                        "marker": {
                          "colorbar": {
                            "outlinewidth": 0,
                            "ticks": ""
                          }
                        },
                        "type": "scattermapbox"
                      }
                    ],
                    "scatterpolar": [
                      {
                        "marker": {
                          "colorbar": {
                            "outlinewidth": 0,
                            "ticks": ""
                          }
                        },
                        "type": "scatterpolar"
                      }
                    ],
                    "scatterpolargl": [
                      {
                        "marker": {
                          "colorbar": {
                            "outlinewidth": 0,
                            "ticks": ""
                          }
                        },
                        "type": "scatterpolargl"
                      }
                    ],
                    "scatterternary": [
                      {
                        "marker": {
                          "colorbar": {
                            "outlinewidth": 0,
                            "ticks": ""
                          }
                        },
                        "type": "scatterternary"
                      }
                    ],
                    "surface": [
                      {
                        "colorbar": {
                          "outlinewidth": 0,
                          "ticks": ""
                        },
                        "colorscale": [
                          [
                            0,
                            "#0d0887"
                          ],
                          [
                            0.1111111111111111,
                            "#46039f"
                          ],
                          [
                            0.2222222222222222,
                            "#7201a8"
                          ],
                          [
                            0.3333333333333333,
                            "#9c179e"
                          ],
                          [
                            0.4444444444444444,
                            "#bd3786"
                          ],
                          [
                            0.5555555555555556,
                            "#d8576b"
                          ],
                          [
                            0.6666666666666666,
                            "#ed7953"
                          ],
                          [
                            0.7777777777777778,
                            "#fb9f3a"
                          ],
                          [
                            0.8888888888888888,
                            "#fdca26"
                          ],
                          [
                            1,
                            "#f0f921"
                          ]
                        ],
                        "type": "surface"
                      }
                    ],
                    "table": [
                      {
                        "cells": {
                          "fill": {
                            "color": "#EBF0F8"
                          },
                          "line": {
                            "color": "white"
                          }
                        },
                        "header": {
                          "fill": {
                            "color": "#C8D4E3"
                          },
                          "line": {
                            "color": "white"
                          }
                        },
                        "type": "table"
                      }
                    ]
                  },
                  "layout": {
                    "annotationdefaults": {
                      "arrowcolor": "#2a3f5f",
                      "arrowhead": 0,
                      "arrowwidth": 1
                    },
                    "autotypenumbers": "strict",
                    "coloraxis": {
                      "colorbar": {
                        "outlinewidth": 0,
                        "ticks": ""
                      }
                    },
                    "colorscale": {
                      "diverging": [
                        [
                          0,
                          "#8e0152"
                        ],
                        [
                          0.1,
                          "#c51b7d"
                        ],
                        [
                          0.2,
                          "#de77ae"
                        ],
                        [
                          0.3,
                          "#f1b6da"
                        ],
                        [
                          0.4,
                          "#fde0ef"
                        ],
                        [
                          0.5,
                          "#f7f7f7"
                        ],
                        [
                          0.6,
                          "#e6f5d0"
                        ],
                        [
                          0.7,
                          "#b8e186"
                        ],
                        [
                          0.8,
                          "#7fbc41"
                        ],
                        [
                          0.9,
                          "#4d9221"
                        ],
                        [
                          1,
                          "#276419"
                        ]
                      ],
                      "sequential": [
                        [
                          0,
                          "#0d0887"
                        ],
                        [
                          0.1111111111111111,
                          "#46039f"
                        ],
                        [
                          0.2222222222222222,
                          "#7201a8"
                        ],
                        [
                          0.3333333333333333,
                          "#9c179e"
                        ],
                        [
                          0.4444444444444444,
                          "#bd3786"
                        ],
                        [
                          0.5555555555555556,
                          "#d8576b"
                        ],
                        [
                          0.6666666666666666,
                          "#ed7953"
                        ],
                        [
                          0.7777777777777778,
                          "#fb9f3a"
                        ],
                        [
                          0.8888888888888888,
                          "#fdca26"
                        ],
                        [
                          1,
                          "#f0f921"
                        ]
                      ],
                      "sequentialminus": [
                        [
                          0,
                          "#0d0887"
                        ],
                        [
                          0.1111111111111111,
                          "#46039f"
                        ],
                        [
                          0.2222222222222222,
                          "#7201a8"
                        ],
                        [
                          0.3333333333333333,
                          "#9c179e"
                        ],
                        [
                          0.4444444444444444,
                          "#bd3786"
                        ],
                        [
                          0.5555555555555556,
                          "#d8576b"
                        ],
                        [
                          0.6666666666666666,
                          "#ed7953"
                        ],
                        [
                          0.7777777777777778,
                          "#fb9f3a"
                        ],
                        [
                          0.8888888888888888,
                          "#fdca26"
                        ],
                        [
                          1,
                          "#f0f921"
                        ]
                      ]
                    },
                    "colorway": [
                      "#636efa",
                      "#EF553B",
                      "#00cc96",
                      "#ab63fa",
                      "#FFA15A",
                      "#19d3f3",
                      "#FF6692",
                      "#B6E880",
                      "#FF97FF",
                      "#FECB52"
                    ],
                    "font": {
                      "color": "#2a3f5f"
                    },
                    "geo": {
                      "bgcolor": "white",
                      "lakecolor": "white",
                      "landcolor": "#E5ECF6",
                      "showlakes": true,
                      "showland": true,
                      "subunitcolor": "white"
                    },
                    "hoverlabel": {
                      "align": "left"
                    },
                    "hovermode": "closest",
                    "mapbox": {
                      "style": "light"
                    },
                    "paper_bgcolor": "white",
                    "plot_bgcolor": "#E5ECF6",
                    "polar": {
                      "angularaxis": {
                        "gridcolor": "white",
                        "linecolor": "white",
                        "ticks": ""
                      },
                      "bgcolor": "#E5ECF6",
                      "radialaxis": {
                        "gridcolor": "white",
                        "linecolor": "white",
                        "ticks": ""
                      }
                    },
                    "scene": {
                      "xaxis": {
                        "backgroundcolor": "#E5ECF6",
                        "gridcolor": "white",
                        "gridwidth": 2,
                        "linecolor": "white",
                        "showbackground": true,
                        "ticks": "",
                        "zerolinecolor": "white"
                      },
                      "yaxis": {
                        "backgroundcolor": "#E5ECF6",
                        "gridcolor": "white",
                        "gridwidth": 2,
                        "linecolor": "white",
                        "showbackground": true,
                        "ticks": "",
                        "zerolinecolor": "white"
                      },
                      "zaxis": {
                        "backgroundcolor": "#E5ECF6",
                        "gridcolor": "white",
                        "gridwidth": 2,
                        "linecolor": "white",
                        "showbackground": true,
                        "ticks": "",
                        "zerolinecolor": "white"
                      }
                    },
                    "shapedefaults": {
                      "line": {
                        "color": "#2a3f5f"
                      }
                    },
                    "ternary": {
                      "aaxis": {
                        "gridcolor": "white",
                        "linecolor": "white",
                        "ticks": ""
                      },
                      "baxis": {
                        "gridcolor": "white",
                        "linecolor": "white",
                        "ticks": ""
                      },
                      "bgcolor": "#E5ECF6",
                      "caxis": {
                        "gridcolor": "white",
                        "linecolor": "white",
                        "ticks": ""
                      }
                    },
                    "title": {
                      "x": 0.05
                    },
                    "xaxis": {
                      "automargin": true,
                      "gridcolor": "white",
                      "linecolor": "white",
                      "ticks": "",
                      "title": {
                        "standoff": 15
                      },
                      "zerolinecolor": "white",
                      "zerolinewidth": 2
                    },
                    "yaxis": {
                      "automargin": true,
                      "gridcolor": "white",
                      "linecolor": "white",
                      "ticks": "",
                      "title": {
                        "standoff": 15
                      },
                      "zerolinecolor": "white",
                      "zerolinewidth": 2
                    }
                  }
                },
                "title": {
                  "text": "Реальна vs Прогнозована вартість оренди (тестова вибірка)"
                },
                "xaxis": {
                  "anchor": "y",
                  "domain": [
                    0,
                    1
                  ],
                  "title": {
                    "text": "Реальна вартість"
                  }
                },
                "yaxis": {
                  "anchor": "x",
                  "domain": [
                    0,
                    1
                  ],
                  "title": {
                    "text": "Прогнозована вартість"
                  }
                }
              }
            }
          },
          "metadata": {},
          "output_type": "display_data"
        }
      ],
      "source": [
        "# Графік розсіювання реальні vs прогнозовані значення\n",
        "fig = px.scatter(\n",
        "    x=y_test,\n",
        "    y=y_test_pred,\n",
        "    title='Реальна vs Прогнозована вартість оренди (тестова вибірка)',\n",
        "    labels={'x': 'Реальна вартість', 'y': 'Прогнозована вартість'},\n",
        "    opacity=0.6\n",
        ")\n",
        "\n",
        "# Лінія ідеального прогнозу\n",
        "max_val = max(y_test.max(), y_test_pred.max())\n",
        "fig.add_trace(\n",
        "    go.Scatter(\n",
        "        x=[0, max_val],\n",
        "        y=[0, max_val],\n",
        "        mode='lines',\n",
        "        name='Ідеальний прогноз',\n",
        "        line=dict(color='red', dash='dash')\n",
        "    )\n",
        ")\n",
        "\n",
        "fig.update_layout(height=500)\n",
        "fig.show()"
      ]
    },
    {
      "cell_type": "markdown",
      "metadata": {},
      "source": [
        "З графіку розсіювання видно, що в цілому тенденція вірна і графік розташовується вздовж лінії ідеального прогнозу, хоча і достатньо розсіяний"
      ]
    },
    {
      "cell_type": "markdown",
      "metadata": {
        "id": "9f6f299d"
      },
      "source": [
        "## Завдання 7: Аналіз помилок (4 бали)\n",
        "\n",
        "**Що потрібно зробити:**\n",
        "1. Обчисліть помилки (residuals = реальні - прогнозовані значення)\n",
        "2. Побудуйте гістограму розподілу помилок\n",
        "3. Створіть scatter plot помилок відносно величини прогнозованих значень. Чи росте помилка з ростом прогнозованого значення?\n",
        "4. Знайдіть 5 прогнозів з найбільшими помилками\n",
        "5. Проаналізуйте, на яких типах житла модель помиляється найбільше. Типи можна розрізняти за кількістю кімнат чи містом, наприклад.\n",
        "6. Подумайте і напишіть, які наступні кроки ви б зробили, аби поліпшити якість моделі. Опціонально можна їх зробити і ми перевіримо :)"
      ]
    },
    {
      "cell_type": "code",
      "execution_count": null,
      "metadata": {
        "id": "RxF3y1BcOevB"
      },
      "outputs": [
        {
          "data": {
            "application/vnd.plotly.v1+json": {
              "config": {
                "plotlyServerURL": "https://plot.ly"
              },
              "data": [
                {
                  "bingroup": "x",
                  "hovertemplate": "Помилка (реальні - прогнозовані)=%{x}<br>count=%{y}<extra></extra>",
                  "legendgroup": "",
                  "marker": {
                    "color": "indianred",
                    "pattern": {
                      "shape": ""
                    }
                  },
                  "name": "",
                  "orientation": "v",
                  "showlegend": false,
                  "type": "histogram",
                  "x": {
                    "bdata": "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",
                    "dtype": "f8"
                  },
                  "xaxis": "x",
                  "yaxis": "y"
                }
              ],
              "layout": {
                "annotations": [
                  {
                    "showarrow": false,
                    "text": "Ідеальний прогноз",
                    "x": 0,
                    "xanchor": "left",
                    "xref": "x",
                    "y": 1,
                    "yanchor": "top",
                    "yref": "y domain"
                  }
                ],
                "barmode": "relative",
                "legend": {
                  "tracegroupgap": 0
                },
                "shapes": [
                  {
                    "line": {
                      "color": "black",
                      "dash": "dash"
                    },
                    "type": "line",
                    "x0": 0,
                    "x1": 0,
                    "xref": "x",
                    "y0": 0,
                    "y1": 1,
                    "yref": "y domain"
                  }
                ],
                "template": {
                  "data": {
                    "bar": [
                      {
                        "error_x": {
                          "color": "#2a3f5f"
                        },
                        "error_y": {
                          "color": "#2a3f5f"
                        },
                        "marker": {
                          "line": {
                            "color": "#E5ECF6",
                            "width": 0.5
                          },
                          "pattern": {
                            "fillmode": "overlay",
                            "size": 10,
                            "solidity": 0.2
                          }
                        },
                        "type": "bar"
                      }
                    ],
                    "barpolar": [
                      {
                        "marker": {
                          "line": {
                            "color": "#E5ECF6",
                            "width": 0.5
                          },
                          "pattern": {
                            "fillmode": "overlay",
                            "size": 10,
                            "solidity": 0.2
                          }
                        },
                        "type": "barpolar"
                      }
                    ],
                    "carpet": [
                      {
                        "aaxis": {
                          "endlinecolor": "#2a3f5f",
                          "gridcolor": "white",
                          "linecolor": "white",
                          "minorgridcolor": "white",
                          "startlinecolor": "#2a3f5f"
                        },
                        "baxis": {
                          "endlinecolor": "#2a3f5f",
                          "gridcolor": "white",
                          "linecolor": "white",
                          "minorgridcolor": "white",
                          "startlinecolor": "#2a3f5f"
                        },
                        "type": "carpet"
                      }
                    ],
                    "choropleth": [
                      {
                        "colorbar": {
                          "outlinewidth": 0,
                          "ticks": ""
                        },
                        "type": "choropleth"
                      }
                    ],
                    "contour": [
                      {
                        "colorbar": {
                          "outlinewidth": 0,
                          "ticks": ""
                        },
                        "colorscale": [
                          [
                            0,
                            "#0d0887"
                          ],
                          [
                            0.1111111111111111,
                            "#46039f"
                          ],
                          [
                            0.2222222222222222,
                            "#7201a8"
                          ],
                          [
                            0.3333333333333333,
                            "#9c179e"
                          ],
                          [
                            0.4444444444444444,
                            "#bd3786"
                          ],
                          [
                            0.5555555555555556,
                            "#d8576b"
                          ],
                          [
                            0.6666666666666666,
                            "#ed7953"
                          ],
                          [
                            0.7777777777777778,
                            "#fb9f3a"
                          ],
                          [
                            0.8888888888888888,
                            "#fdca26"
                          ],
                          [
                            1,
                            "#f0f921"
                          ]
                        ],
                        "type": "contour"
                      }
                    ],
                    "contourcarpet": [
                      {
                        "colorbar": {
                          "outlinewidth": 0,
                          "ticks": ""
                        },
                        "type": "contourcarpet"
                      }
                    ],
                    "heatmap": [
                      {
                        "colorbar": {
                          "outlinewidth": 0,
                          "ticks": ""
                        },
                        "colorscale": [
                          [
                            0,
                            "#0d0887"
                          ],
                          [
                            0.1111111111111111,
                            "#46039f"
                          ],
                          [
                            0.2222222222222222,
                            "#7201a8"
                          ],
                          [
                            0.3333333333333333,
                            "#9c179e"
                          ],
                          [
                            0.4444444444444444,
                            "#bd3786"
                          ],
                          [
                            0.5555555555555556,
                            "#d8576b"
                          ],
                          [
                            0.6666666666666666,
                            "#ed7953"
                          ],
                          [
                            0.7777777777777778,
                            "#fb9f3a"
                          ],
                          [
                            0.8888888888888888,
                            "#fdca26"
                          ],
                          [
                            1,
                            "#f0f921"
                          ]
                        ],
                        "type": "heatmap"
                      }
                    ],
                    "histogram": [
                      {
                        "marker": {
                          "pattern": {
                            "fillmode": "overlay",
                            "size": 10,
                            "solidity": 0.2
                          }
                        },
                        "type": "histogram"
                      }
                    ],
                    "histogram2d": [
                      {
                        "colorbar": {
                          "outlinewidth": 0,
                          "ticks": ""
                        },
                        "colorscale": [
                          [
                            0,
                            "#0d0887"
                          ],
                          [
                            0.1111111111111111,
                            "#46039f"
                          ],
                          [
                            0.2222222222222222,
                            "#7201a8"
                          ],
                          [
                            0.3333333333333333,
                            "#9c179e"
                          ],
                          [
                            0.4444444444444444,
                            "#bd3786"
                          ],
                          [
                            0.5555555555555556,
                            "#d8576b"
                          ],
                          [
                            0.6666666666666666,
                            "#ed7953"
                          ],
                          [
                            0.7777777777777778,
                            "#fb9f3a"
                          ],
                          [
                            0.8888888888888888,
                            "#fdca26"
                          ],
                          [
                            1,
                            "#f0f921"
                          ]
                        ],
                        "type": "histogram2d"
                      }
                    ],
                    "histogram2dcontour": [
                      {
                        "colorbar": {
                          "outlinewidth": 0,
                          "ticks": ""
                        },
                        "colorscale": [
                          [
                            0,
                            "#0d0887"
                          ],
                          [
                            0.1111111111111111,
                            "#46039f"
                          ],
                          [
                            0.2222222222222222,
                            "#7201a8"
                          ],
                          [
                            0.3333333333333333,
                            "#9c179e"
                          ],
                          [
                            0.4444444444444444,
                            "#bd3786"
                          ],
                          [
                            0.5555555555555556,
                            "#d8576b"
                          ],
                          [
                            0.6666666666666666,
                            "#ed7953"
                          ],
                          [
                            0.7777777777777778,
                            "#fb9f3a"
                          ],
                          [
                            0.8888888888888888,
                            "#fdca26"
                          ],
                          [
                            1,
                            "#f0f921"
                          ]
                        ],
                        "type": "histogram2dcontour"
                      }
                    ],
                    "mesh3d": [
                      {
                        "colorbar": {
                          "outlinewidth": 0,
                          "ticks": ""
                        },
                        "type": "mesh3d"
                      }
                    ],
                    "parcoords": [
                      {
                        "line": {
                          "colorbar": {
                            "outlinewidth": 0,
                            "ticks": ""
                          }
                        },
                        "type": "parcoords"
                      }
                    ],
                    "pie": [
                      {
                        "automargin": true,
                        "type": "pie"
                      }
                    ],
                    "scatter": [
                      {
                        "fillpattern": {
                          "fillmode": "overlay",
                          "size": 10,
                          "solidity": 0.2
                        },
                        "type": "scatter"
                      }
                    ],
                    "scatter3d": [
                      {
                        "line": {
                          "colorbar": {
                            "outlinewidth": 0,
                            "ticks": ""
                          }
                        },
                        "marker": {
                          "colorbar": {
                            "outlinewidth": 0,
                            "ticks": ""
                          }
                        },
                        "type": "scatter3d"
                      }
                    ],
                    "scattercarpet": [
                      {
                        "marker": {
                          "colorbar": {
                            "outlinewidth": 0,
                            "ticks": ""
                          }
                        },
                        "type": "scattercarpet"
                      }
                    ],
                    "scattergeo": [
                      {
                        "marker": {
                          "colorbar": {
                            "outlinewidth": 0,
                            "ticks": ""
                          }
                        },
                        "type": "scattergeo"
                      }
                    ],
                    "scattergl": [
                      {
                        "marker": {
                          "colorbar": {
                            "outlinewidth": 0,
                            "ticks": ""
                          }
                        },
                        "type": "scattergl"
                      }
                    ],
                    "scattermap": [
                      {
                        "marker": {
                          "colorbar": {
                            "outlinewidth": 0,
                            "ticks": ""
                          }
                        },
                        "type": "scattermap"
                      }
                    ],
                    "scattermapbox": [
                      {
                        "marker": {
                          "colorbar": {
                            "outlinewidth": 0,
                            "ticks": ""
                          }
                        },
                        "type": "scattermapbox"
                      }
                    ],
                    "scatterpolar": [
                      {
                        "marker": {
                          "colorbar": {
                            "outlinewidth": 0,
                            "ticks": ""
                          }
                        },
                        "type": "scatterpolar"
                      }
                    ],
                    "scatterpolargl": [
                      {
                        "marker": {
                          "colorbar": {
                            "outlinewidth": 0,
                            "ticks": ""
                          }
                        },
                        "type": "scatterpolargl"
                      }
                    ],
                    "scatterternary": [
                      {
                        "marker": {
                          "colorbar": {
                            "outlinewidth": 0,
                            "ticks": ""
                          }
                        },
                        "type": "scatterternary"
                      }
                    ],
                    "surface": [
                      {
                        "colorbar": {
                          "outlinewidth": 0,
                          "ticks": ""
                        },
                        "colorscale": [
                          [
                            0,
                            "#0d0887"
                          ],
                          [
                            0.1111111111111111,
                            "#46039f"
                          ],
                          [
                            0.2222222222222222,
                            "#7201a8"
                          ],
                          [
                            0.3333333333333333,
                            "#9c179e"
                          ],
                          [
                            0.4444444444444444,
                            "#bd3786"
                          ],
                          [
                            0.5555555555555556,
                            "#d8576b"
                          ],
                          [
                            0.6666666666666666,
                            "#ed7953"
                          ],
                          [
                            0.7777777777777778,
                            "#fb9f3a"
                          ],
                          [
                            0.8888888888888888,
                            "#fdca26"
                          ],
                          [
                            1,
                            "#f0f921"
                          ]
                        ],
                        "type": "surface"
                      }
                    ],
                    "table": [
                      {
                        "cells": {
                          "fill": {
                            "color": "#EBF0F8"
                          },
                          "line": {
                            "color": "white"
                          }
                        },
                        "header": {
                          "fill": {
                            "color": "#C8D4E3"
                          },
                          "line": {
                            "color": "white"
                          }
                        },
                        "type": "table"
                      }
                    ]
                  },
                  "layout": {
                    "annotationdefaults": {
                      "arrowcolor": "#2a3f5f",
                      "arrowhead": 0,
                      "arrowwidth": 1
                    },
                    "autotypenumbers": "strict",
                    "coloraxis": {
                      "colorbar": {
                        "outlinewidth": 0,
                        "ticks": ""
                      }
                    },
                    "colorscale": {
                      "diverging": [
                        [
                          0,
                          "#8e0152"
                        ],
                        [
                          0.1,
                          "#c51b7d"
                        ],
                        [
                          0.2,
                          "#de77ae"
                        ],
                        [
                          0.3,
                          "#f1b6da"
                        ],
                        [
                          0.4,
                          "#fde0ef"
                        ],
                        [
                          0.5,
                          "#f7f7f7"
                        ],
                        [
                          0.6,
                          "#e6f5d0"
                        ],
                        [
                          0.7,
                          "#b8e186"
                        ],
                        [
                          0.8,
                          "#7fbc41"
                        ],
                        [
                          0.9,
                          "#4d9221"
                        ],
                        [
                          1,
                          "#276419"
                        ]
                      ],
                      "sequential": [
                        [
                          0,
                          "#0d0887"
                        ],
                        [
                          0.1111111111111111,
                          "#46039f"
                        ],
                        [
                          0.2222222222222222,
                          "#7201a8"
                        ],
                        [
                          0.3333333333333333,
                          "#9c179e"
                        ],
                        [
                          0.4444444444444444,
                          "#bd3786"
                        ],
                        [
                          0.5555555555555556,
                          "#d8576b"
                        ],
                        [
                          0.6666666666666666,
                          "#ed7953"
                        ],
                        [
                          0.7777777777777778,
                          "#fb9f3a"
                        ],
                        [
                          0.8888888888888888,
                          "#fdca26"
                        ],
                        [
                          1,
                          "#f0f921"
                        ]
                      ],
                      "sequentialminus": [
                        [
                          0,
                          "#0d0887"
                        ],
                        [
                          0.1111111111111111,
                          "#46039f"
                        ],
                        [
                          0.2222222222222222,
                          "#7201a8"
                        ],
                        [
                          0.3333333333333333,
                          "#9c179e"
                        ],
                        [
                          0.4444444444444444,
                          "#bd3786"
                        ],
                        [
                          0.5555555555555556,
                          "#d8576b"
                        ],
                        [
                          0.6666666666666666,
                          "#ed7953"
                        ],
                        [
                          0.7777777777777778,
                          "#fb9f3a"
                        ],
                        [
                          0.8888888888888888,
                          "#fdca26"
                        ],
                        [
                          1,
                          "#f0f921"
                        ]
                      ]
                    },
                    "colorway": [
                      "#636efa",
                      "#EF553B",
                      "#00cc96",
                      "#ab63fa",
                      "#FFA15A",
                      "#19d3f3",
                      "#FF6692",
                      "#B6E880",
                      "#FF97FF",
                      "#FECB52"
                    ],
                    "font": {
                      "color": "#2a3f5f"
                    },
                    "geo": {
                      "bgcolor": "white",
                      "lakecolor": "white",
                      "landcolor": "#E5ECF6",
                      "showlakes": true,
                      "showland": true,
                      "subunitcolor": "white"
                    },
                    "hoverlabel": {
                      "align": "left"
                    },
                    "hovermode": "closest",
                    "mapbox": {
                      "style": "light"
                    },
                    "paper_bgcolor": "white",
                    "plot_bgcolor": "#E5ECF6",
                    "polar": {
                      "angularaxis": {
                        "gridcolor": "white",
                        "linecolor": "white",
                        "ticks": ""
                      },
                      "bgcolor": "#E5ECF6",
                      "radialaxis": {
                        "gridcolor": "white",
                        "linecolor": "white",
                        "ticks": ""
                      }
                    },
                    "scene": {
                      "xaxis": {
                        "backgroundcolor": "#E5ECF6",
                        "gridcolor": "white",
                        "gridwidth": 2,
                        "linecolor": "white",
                        "showbackground": true,
                        "ticks": "",
                        "zerolinecolor": "white"
                      },
                      "yaxis": {
                        "backgroundcolor": "#E5ECF6",
                        "gridcolor": "white",
                        "gridwidth": 2,
                        "linecolor": "white",
                        "showbackground": true,
                        "ticks": "",
                        "zerolinecolor": "white"
                      },
                      "zaxis": {
                        "backgroundcolor": "#E5ECF6",
                        "gridcolor": "white",
                        "gridwidth": 2,
                        "linecolor": "white",
                        "showbackground": true,
                        "ticks": "",
                        "zerolinecolor": "white"
                      }
                    },
                    "shapedefaults": {
                      "line": {
                        "color": "#2a3f5f"
                      }
                    },
                    "ternary": {
                      "aaxis": {
                        "gridcolor": "white",
                        "linecolor": "white",
                        "ticks": ""
                      },
                      "baxis": {
                        "gridcolor": "white",
                        "linecolor": "white",
                        "ticks": ""
                      },
                      "bgcolor": "#E5ECF6",
                      "caxis": {
                        "gridcolor": "white",
                        "linecolor": "white",
                        "ticks": ""
                      }
                    },
                    "title": {
                      "x": 0.05
                    },
                    "xaxis": {
                      "automargin": true,
                      "gridcolor": "white",
                      "linecolor": "white",
                      "ticks": "",
                      "title": {
                        "standoff": 15
                      },
                      "zerolinecolor": "white",
                      "zerolinewidth": 2
                    },
                    "yaxis": {
                      "automargin": true,
                      "gridcolor": "white",
                      "linecolor": "white",
                      "ticks": "",
                      "title": {
                        "standoff": 15
                      },
                      "zerolinecolor": "white",
                      "zerolinewidth": 2
                    }
                  }
                },
                "title": {
                  "text": "Розподіл помилок прогнозування орендної плати"
                },
                "xaxis": {
                  "anchor": "y",
                  "domain": [
                    0,
                    1
                  ],
                  "title": {
                    "text": "Помилка (реальні - прогнозовані)"
                  }
                },
                "yaxis": {
                  "anchor": "x",
                  "domain": [
                    0,
                    1
                  ],
                  "title": {
                    "text": "count"
                  }
                }
              }
            }
          },
          "metadata": {},
          "output_type": "display_data"
        }
      ],
      "source": [
        "# Обчислення помилок\n",
        "residuals = y_test - y_test_pred\n",
        "\n",
        "# Гістограма помилок\n",
        "fig = px.histogram(\n",
        "    x=residuals,\n",
        "    title='Розподіл помилок прогнозування орендної плати',\n",
        "    labels={'x': 'Помилка (реальні - прогнозовані)', 'count': 'Кількість'},\n",
        "    color_discrete_sequence=['indianred']\n",
        ")\n",
        "fig.add_vline(x=0, line_dash=\"dash\", line_color=\"black\", annotation_text=\"Ідеальний прогноз\")\n",
        "fig.show()"
      ]
    },
    {
      "cell_type": "code",
      "execution_count": 52,
      "metadata": {},
      "outputs": [
        {
          "data": {
            "text/plain": [
              "np.float64(-458.43845936636677)"
            ]
          },
          "execution_count": 52,
          "metadata": {},
          "output_type": "execute_result"
        }
      ],
      "source": [
        "residuals.mean()"
      ]
    },
    {
      "cell_type": "markdown",
      "metadata": {},
      "source": [
        "Помилки розподілені нормально і приблизно однаково від 0. Це говорить, що модель однаково як завищує так і занижує прогноз. Середнє значення помилки -458.44, що відносно близько до 0 порівняно з масштабом значень, отже систематичної помилки немає.\n",
        "Мають місце великі відхилення - до 30 тис. рупій, що може пояснюватись наявністю маленьких але дорогих люксових квартир, адже ознаки рівня ремонту в даних не було. Також не була включена ознака району розташування."
      ]
    },
    {
      "cell_type": "code",
      "execution_count": 53,
      "metadata": {},
      "outputs": [
        {
          "data": {
            "application/vnd.plotly.v1+json": {
              "config": {
                "plotlyServerURL": "https://plot.ly"
              },
              "data": [
                {
                  "hovertemplate": "Прогнозована вартість оренди=%{x}<br>Помилка=%{y}<extra></extra>",
                  "legendgroup": "",
                  "marker": {
                    "color": "#636efa",
                    "opacity": 0.5,
                    "symbol": "circle"
                  },
                  "mode": "markers",
                  "name": "",
                  "orientation": "v",
                  "showlegend": false,
                  "type": "scatter",
                  "x": {
                    "bdata": "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",
                    "dtype": "f8"
                  },
                  "xaxis": "x",
                  "y": {
                    "bdata": "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",
                    "dtype": "f8"
                  },
                  "yaxis": "y"
                }
              ],
              "layout": {
                "annotations": [
                  {
                    "showarrow": false,
                    "text": "Без помилки",
                    "x": 1,
                    "xanchor": "right",
                    "xref": "x domain",
                    "y": 0,
                    "yanchor": "bottom",
                    "yref": "y"
                  }
                ],
                "legend": {
                  "tracegroupgap": 0
                },
                "shapes": [
                  {
                    "line": {
                      "color": "red",
                      "dash": "dash"
                    },
                    "type": "line",
                    "x0": 0,
                    "x1": 1,
                    "xref": "x domain",
                    "y0": 0,
                    "y1": 0,
                    "yref": "y"
                  }
                ],
                "template": {
                  "data": {
                    "bar": [
                      {
                        "error_x": {
                          "color": "#2a3f5f"
                        },
                        "error_y": {
                          "color": "#2a3f5f"
                        },
                        "marker": {
                          "line": {
                            "color": "#E5ECF6",
                            "width": 0.5
                          },
                          "pattern": {
                            "fillmode": "overlay",
                            "size": 10,
                            "solidity": 0.2
                          }
                        },
                        "type": "bar"
                      }
                    ],
                    "barpolar": [
                      {
                        "marker": {
                          "line": {
                            "color": "#E5ECF6",
                            "width": 0.5
                          },
                          "pattern": {
                            "fillmode": "overlay",
                            "size": 10,
                            "solidity": 0.2
                          }
                        },
                        "type": "barpolar"
                      }
                    ],
                    "carpet": [
                      {
                        "aaxis": {
                          "endlinecolor": "#2a3f5f",
                          "gridcolor": "white",
                          "linecolor": "white",
                          "minorgridcolor": "white",
                          "startlinecolor": "#2a3f5f"
                        },
                        "baxis": {
                          "endlinecolor": "#2a3f5f",
                          "gridcolor": "white",
                          "linecolor": "white",
                          "minorgridcolor": "white",
                          "startlinecolor": "#2a3f5f"
                        },
                        "type": "carpet"
                      }
                    ],
                    "choropleth": [
                      {
                        "colorbar": {
                          "outlinewidth": 0,
                          "ticks": ""
                        },
                        "type": "choropleth"
                      }
                    ],
                    "contour": [
                      {
                        "colorbar": {
                          "outlinewidth": 0,
                          "ticks": ""
                        },
                        "colorscale": [
                          [
                            0,
                            "#0d0887"
                          ],
                          [
                            0.1111111111111111,
                            "#46039f"
                          ],
                          [
                            0.2222222222222222,
                            "#7201a8"
                          ],
                          [
                            0.3333333333333333,
                            "#9c179e"
                          ],
                          [
                            0.4444444444444444,
                            "#bd3786"
                          ],
                          [
                            0.5555555555555556,
                            "#d8576b"
                          ],
                          [
                            0.6666666666666666,
                            "#ed7953"
                          ],
                          [
                            0.7777777777777778,
                            "#fb9f3a"
                          ],
                          [
                            0.8888888888888888,
                            "#fdca26"
                          ],
                          [
                            1,
                            "#f0f921"
                          ]
                        ],
                        "type": "contour"
                      }
                    ],
                    "contourcarpet": [
                      {
                        "colorbar": {
                          "outlinewidth": 0,
                          "ticks": ""
                        },
                        "type": "contourcarpet"
                      }
                    ],
                    "heatmap": [
                      {
                        "colorbar": {
                          "outlinewidth": 0,
                          "ticks": ""
                        },
                        "colorscale": [
                          [
                            0,
                            "#0d0887"
                          ],
                          [
                            0.1111111111111111,
                            "#46039f"
                          ],
                          [
                            0.2222222222222222,
                            "#7201a8"
                          ],
                          [
                            0.3333333333333333,
                            "#9c179e"
                          ],
                          [
                            0.4444444444444444,
                            "#bd3786"
                          ],
                          [
                            0.5555555555555556,
                            "#d8576b"
                          ],
                          [
                            0.6666666666666666,
                            "#ed7953"
                          ],
                          [
                            0.7777777777777778,
                            "#fb9f3a"
                          ],
                          [
                            0.8888888888888888,
                            "#fdca26"
                          ],
                          [
                            1,
                            "#f0f921"
                          ]
                        ],
                        "type": "heatmap"
                      }
                    ],
                    "histogram": [
                      {
                        "marker": {
                          "pattern": {
                            "fillmode": "overlay",
                            "size": 10,
                            "solidity": 0.2
                          }
                        },
                        "type": "histogram"
                      }
                    ],
                    "histogram2d": [
                      {
                        "colorbar": {
                          "outlinewidth": 0,
                          "ticks": ""
                        },
                        "colorscale": [
                          [
                            0,
                            "#0d0887"
                          ],
                          [
                            0.1111111111111111,
                            "#46039f"
                          ],
                          [
                            0.2222222222222222,
                            "#7201a8"
                          ],
                          [
                            0.3333333333333333,
                            "#9c179e"
                          ],
                          [
                            0.4444444444444444,
                            "#bd3786"
                          ],
                          [
                            0.5555555555555556,
                            "#d8576b"
                          ],
                          [
                            0.6666666666666666,
                            "#ed7953"
                          ],
                          [
                            0.7777777777777778,
                            "#fb9f3a"
                          ],
                          [
                            0.8888888888888888,
                            "#fdca26"
                          ],
                          [
                            1,
                            "#f0f921"
                          ]
                        ],
                        "type": "histogram2d"
                      }
                    ],
                    "histogram2dcontour": [
                      {
                        "colorbar": {
                          "outlinewidth": 0,
                          "ticks": ""
                        },
                        "colorscale": [
                          [
                            0,
                            "#0d0887"
                          ],
                          [
                            0.1111111111111111,
                            "#46039f"
                          ],
                          [
                            0.2222222222222222,
                            "#7201a8"
                          ],
                          [
                            0.3333333333333333,
                            "#9c179e"
                          ],
                          [
                            0.4444444444444444,
                            "#bd3786"
                          ],
                          [
                            0.5555555555555556,
                            "#d8576b"
                          ],
                          [
                            0.6666666666666666,
                            "#ed7953"
                          ],
                          [
                            0.7777777777777778,
                            "#fb9f3a"
                          ],
                          [
                            0.8888888888888888,
                            "#fdca26"
                          ],
                          [
                            1,
                            "#f0f921"
                          ]
                        ],
                        "type": "histogram2dcontour"
                      }
                    ],
                    "mesh3d": [
                      {
                        "colorbar": {
                          "outlinewidth": 0,
                          "ticks": ""
                        },
                        "type": "mesh3d"
                      }
                    ],
                    "parcoords": [
                      {
                        "line": {
                          "colorbar": {
                            "outlinewidth": 0,
                            "ticks": ""
                          }
                        },
                        "type": "parcoords"
                      }
                    ],
                    "pie": [
                      {
                        "automargin": true,
                        "type": "pie"
                      }
                    ],
                    "scatter": [
                      {
                        "fillpattern": {
                          "fillmode": "overlay",
                          "size": 10,
                          "solidity": 0.2
                        },
                        "type": "scatter"
                      }
                    ],
                    "scatter3d": [
                      {
                        "line": {
                          "colorbar": {
                            "outlinewidth": 0,
                            "ticks": ""
                          }
                        },
                        "marker": {
                          "colorbar": {
                            "outlinewidth": 0,
                            "ticks": ""
                          }
                        },
                        "type": "scatter3d"
                      }
                    ],
                    "scattercarpet": [
                      {
                        "marker": {
                          "colorbar": {
                            "outlinewidth": 0,
                            "ticks": ""
                          }
                        },
                        "type": "scattercarpet"
                      }
                    ],
                    "scattergeo": [
                      {
                        "marker": {
                          "colorbar": {
                            "outlinewidth": 0,
                            "ticks": ""
                          }
                        },
                        "type": "scattergeo"
                      }
                    ],
                    "scattergl": [
                      {
                        "marker": {
                          "colorbar": {
                            "outlinewidth": 0,
                            "ticks": ""
                          }
                        },
                        "type": "scattergl"
                      }
                    ],
                    "scattermap": [
                      {
                        "marker": {
                          "colorbar": {
                            "outlinewidth": 0,
                            "ticks": ""
                          }
                        },
                        "type": "scattermap"
                      }
                    ],
                    "scattermapbox": [
                      {
                        "marker": {
                          "colorbar": {
                            "outlinewidth": 0,
                            "ticks": ""
                          }
                        },
                        "type": "scattermapbox"
                      }
                    ],
                    "scatterpolar": [
                      {
                        "marker": {
                          "colorbar": {
                            "outlinewidth": 0,
                            "ticks": ""
                          }
                        },
                        "type": "scatterpolar"
                      }
                    ],
                    "scatterpolargl": [
                      {
                        "marker": {
                          "colorbar": {
                            "outlinewidth": 0,
                            "ticks": ""
                          }
                        },
                        "type": "scatterpolargl"
                      }
                    ],
                    "scatterternary": [
                      {
                        "marker": {
                          "colorbar": {
                            "outlinewidth": 0,
                            "ticks": ""
                          }
                        },
                        "type": "scatterternary"
                      }
                    ],
                    "surface": [
                      {
                        "colorbar": {
                          "outlinewidth": 0,
                          "ticks": ""
                        },
                        "colorscale": [
                          [
                            0,
                            "#0d0887"
                          ],
                          [
                            0.1111111111111111,
                            "#46039f"
                          ],
                          [
                            0.2222222222222222,
                            "#7201a8"
                          ],
                          [
                            0.3333333333333333,
                            "#9c179e"
                          ],
                          [
                            0.4444444444444444,
                            "#bd3786"
                          ],
                          [
                            0.5555555555555556,
                            "#d8576b"
                          ],
                          [
                            0.6666666666666666,
                            "#ed7953"
                          ],
                          [
                            0.7777777777777778,
                            "#fb9f3a"
                          ],
                          [
                            0.8888888888888888,
                            "#fdca26"
                          ],
                          [
                            1,
                            "#f0f921"
                          ]
                        ],
                        "type": "surface"
                      }
                    ],
                    "table": [
                      {
                        "cells": {
                          "fill": {
                            "color": "#EBF0F8"
                          },
                          "line": {
                            "color": "white"
                          }
                        },
                        "header": {
                          "fill": {
                            "color": "#C8D4E3"
                          },
                          "line": {
                            "color": "white"
                          }
                        },
                        "type": "table"
                      }
                    ]
                  },
                  "layout": {
                    "annotationdefaults": {
                      "arrowcolor": "#2a3f5f",
                      "arrowhead": 0,
                      "arrowwidth": 1
                    },
                    "autotypenumbers": "strict",
                    "coloraxis": {
                      "colorbar": {
                        "outlinewidth": 0,
                        "ticks": ""
                      }
                    },
                    "colorscale": {
                      "diverging": [
                        [
                          0,
                          "#8e0152"
                        ],
                        [
                          0.1,
                          "#c51b7d"
                        ],
                        [
                          0.2,
                          "#de77ae"
                        ],
                        [
                          0.3,
                          "#f1b6da"
                        ],
                        [
                          0.4,
                          "#fde0ef"
                        ],
                        [
                          0.5,
                          "#f7f7f7"
                        ],
                        [
                          0.6,
                          "#e6f5d0"
                        ],
                        [
                          0.7,
                          "#b8e186"
                        ],
                        [
                          0.8,
                          "#7fbc41"
                        ],
                        [
                          0.9,
                          "#4d9221"
                        ],
                        [
                          1,
                          "#276419"
                        ]
                      ],
                      "sequential": [
                        [
                          0,
                          "#0d0887"
                        ],
                        [
                          0.1111111111111111,
                          "#46039f"
                        ],
                        [
                          0.2222222222222222,
                          "#7201a8"
                        ],
                        [
                          0.3333333333333333,
                          "#9c179e"
                        ],
                        [
                          0.4444444444444444,
                          "#bd3786"
                        ],
                        [
                          0.5555555555555556,
                          "#d8576b"
                        ],
                        [
                          0.6666666666666666,
                          "#ed7953"
                        ],
                        [
                          0.7777777777777778,
                          "#fb9f3a"
                        ],
                        [
                          0.8888888888888888,
                          "#fdca26"
                        ],
                        [
                          1,
                          "#f0f921"
                        ]
                      ],
                      "sequentialminus": [
                        [
                          0,
                          "#0d0887"
                        ],
                        [
                          0.1111111111111111,
                          "#46039f"
                        ],
                        [
                          0.2222222222222222,
                          "#7201a8"
                        ],
                        [
                          0.3333333333333333,
                          "#9c179e"
                        ],
                        [
                          0.4444444444444444,
                          "#bd3786"
                        ],
                        [
                          0.5555555555555556,
                          "#d8576b"
                        ],
                        [
                          0.6666666666666666,
                          "#ed7953"
                        ],
                        [
                          0.7777777777777778,
                          "#fb9f3a"
                        ],
                        [
                          0.8888888888888888,
                          "#fdca26"
                        ],
                        [
                          1,
                          "#f0f921"
                        ]
                      ]
                    },
                    "colorway": [
                      "#636efa",
                      "#EF553B",
                      "#00cc96",
                      "#ab63fa",
                      "#FFA15A",
                      "#19d3f3",
                      "#FF6692",
                      "#B6E880",
                      "#FF97FF",
                      "#FECB52"
                    ],
                    "font": {
                      "color": "#2a3f5f"
                    },
                    "geo": {
                      "bgcolor": "white",
                      "lakecolor": "white",
                      "landcolor": "#E5ECF6",
                      "showlakes": true,
                      "showland": true,
                      "subunitcolor": "white"
                    },
                    "hoverlabel": {
                      "align": "left"
                    },
                    "hovermode": "closest",
                    "mapbox": {
                      "style": "light"
                    },
                    "paper_bgcolor": "white",
                    "plot_bgcolor": "#E5ECF6",
                    "polar": {
                      "angularaxis": {
                        "gridcolor": "white",
                        "linecolor": "white",
                        "ticks": ""
                      },
                      "bgcolor": "#E5ECF6",
                      "radialaxis": {
                        "gridcolor": "white",
                        "linecolor": "white",
                        "ticks": ""
                      }
                    },
                    "scene": {
                      "xaxis": {
                        "backgroundcolor": "#E5ECF6",
                        "gridcolor": "white",
                        "gridwidth": 2,
                        "linecolor": "white",
                        "showbackground": true,
                        "ticks": "",
                        "zerolinecolor": "white"
                      },
                      "yaxis": {
                        "backgroundcolor": "#E5ECF6",
                        "gridcolor": "white",
                        "gridwidth": 2,
                        "linecolor": "white",
                        "showbackground": true,
                        "ticks": "",
                        "zerolinecolor": "white"
                      },
                      "zaxis": {
                        "backgroundcolor": "#E5ECF6",
                        "gridcolor": "white",
                        "gridwidth": 2,
                        "linecolor": "white",
                        "showbackground": true,
                        "ticks": "",
                        "zerolinecolor": "white"
                      }
                    },
                    "shapedefaults": {
                      "line": {
                        "color": "#2a3f5f"
                      }
                    },
                    "ternary": {
                      "aaxis": {
                        "gridcolor": "white",
                        "linecolor": "white",
                        "ticks": ""
                      },
                      "baxis": {
                        "gridcolor": "white",
                        "linecolor": "white",
                        "ticks": ""
                      },
                      "bgcolor": "#E5ECF6",
                      "caxis": {
                        "gridcolor": "white",
                        "linecolor": "white",
                        "ticks": ""
                      }
                    },
                    "title": {
                      "x": 0.05
                    },
                    "xaxis": {
                      "automargin": true,
                      "gridcolor": "white",
                      "linecolor": "white",
                      "ticks": "",
                      "title": {
                        "standoff": 15
                      },
                      "zerolinecolor": "white",
                      "zerolinewidth": 2
                    },
                    "yaxis": {
                      "automargin": true,
                      "gridcolor": "white",
                      "linecolor": "white",
                      "ticks": "",
                      "title": {
                        "standoff": 15
                      },
                      "zerolinecolor": "white",
                      "zerolinewidth": 2
                    }
                  }
                },
                "title": {
                  "text": "Залежність помилок від прогнозованих значень"
                },
                "xaxis": {
                  "anchor": "y",
                  "domain": [
                    0,
                    1
                  ],
                  "title": {
                    "text": "Прогнозована вартість оренди"
                  }
                },
                "yaxis": {
                  "anchor": "x",
                  "domain": [
                    0,
                    1
                  ],
                  "title": {
                    "text": "Помилка"
                  }
                }
              }
            }
          },
          "metadata": {},
          "output_type": "display_data"
        }
      ],
      "source": [
        "# Залежність помилок від величини прогнозу\n",
        "fig = px.scatter(\n",
        "    x=y_test_pred,\n",
        "    y=residuals,\n",
        "    title='Залежність помилок від прогнозованих значень',\n",
        "    labels={'x': 'Прогнозована вартість оренди', 'y': 'Помилка'},\n",
        "    opacity=0.5\n",
        ")\n",
        "\n",
        "# Додаємо горизонтальну лінію на 0\n",
        "fig.add_hline(y=0, line_dash=\"dash\", line_color=\"red\", annotation_text=\"Без помилки\")\n",
        "fig.show()"
      ]
    },
    {
      "cell_type": "markdown",
      "metadata": {},
      "source": [
        "На цьому графіку також видно, що модель немає систематичного зміщення і помилки зосередженя навколо 0. Також бачимо, що зі збільшенням вартості оренди помилка зростає, що говорить про погіршення прогнозу для високого цінового сегменту, зокрема про недостатність даних для такого аналізу, наприклад, щодо рівня ремонту."
      ]
    },
    {
      "cell_type": "code",
      "execution_count": 62,
      "metadata": {},
      "outputs": [
        {
          "name": "stdout",
          "output_type": "stream",
          "text": [
            "Оголошення з найбільшими помилками прогнозування:\n",
            "       real     predicted         error\n",
            "4408  55000  20649.843010  34350.156990\n",
            "549    8000  39175.489066  31175.489066\n",
            "2826  60000  30480.468463  29519.531537\n",
            "2512  52000  23368.800342  28631.199658\n",
            "904    8000  36106.024442  28106.024442\n"
          ]
        }
      ],
      "source": [
        "# Оолошення з найбільшими помилками\n",
        "errors_df = pd.DataFrame({\n",
        "    'real': y_test.values,\n",
        "    'predicted': y_test_pred,\n",
        "    'error': np.abs(residuals)\n",
        "})\n",
        "\n",
        "# Топ-5 найбільших помилок\n",
        "top_errors = errors_df.nlargest(5, 'error')\n",
        "print(\"Оголошення з найбільшими помилками прогнозування:\")\n",
        "print(top_errors)"
      ]
    },
    {
      "cell_type": "code",
      "execution_count": 59,
      "metadata": {},
      "outputs": [
        {
          "data": {
            "text/html": [
              "<div>\n",
              "<style scoped>\n",
              "    .dataframe tbody tr th:only-of-type {\n",
              "        vertical-align: middle;\n",
              "    }\n",
              "\n",
              "    .dataframe tbody tr th {\n",
              "        vertical-align: top;\n",
              "    }\n",
              "\n",
              "    .dataframe thead th {\n",
              "        text-align: right;\n",
              "    }\n",
              "</style>\n",
              "<table border=\"1\" class=\"dataframe\">\n",
              "  <thead>\n",
              "    <tr style=\"text-align: right;\">\n",
              "      <th></th>\n",
              "      <th>BHK</th>\n",
              "      <th>Size</th>\n",
              "      <th>Bathroom</th>\n",
              "      <th>Furnishing_Status_Encoded</th>\n",
              "      <th>Current_Floor</th>\n",
              "      <th>Total_Floors</th>\n",
              "      <th>Size_per_Room</th>\n",
              "      <th>Tenant_Bachelors</th>\n",
              "      <th>Tenant_Bachelors/Family</th>\n",
              "      <th>Tenant_Family</th>\n",
              "      <th>...</th>\n",
              "      <th>City_Delhi</th>\n",
              "      <th>City_Hyderabad</th>\n",
              "      <th>City_Kolkata</th>\n",
              "      <th>City_Mumbai</th>\n",
              "      <th>Area Type_Built Area</th>\n",
              "      <th>Area Type_Carpet Area</th>\n",
              "      <th>Area Type_Super Area</th>\n",
              "      <th>Contact_Contact Agent</th>\n",
              "      <th>Contact_Contact Builder</th>\n",
              "      <th>Contact_Contact Owner</th>\n",
              "    </tr>\n",
              "  </thead>\n",
              "  <tbody>\n",
              "    <tr>\n",
              "      <th>4408</th>\n",
              "      <td>0.053343</td>\n",
              "      <td>0.932680</td>\n",
              "      <td>0.272550</td>\n",
              "      <td>1.917326</td>\n",
              "      <td>0.953284</td>\n",
              "      <td>0.411574</td>\n",
              "      <td>1.204699</td>\n",
              "      <td>-0.45684</td>\n",
              "      <td>0.597595</td>\n",
              "      <td>-0.315403</td>\n",
              "      <td>...</td>\n",
              "      <td>-0.387017</td>\n",
              "      <td>2.002075</td>\n",
              "      <td>-0.376018</td>\n",
              "      <td>-0.408981</td>\n",
              "      <td>-0.02177</td>\n",
              "      <td>-0.878474</td>\n",
              "      <td>0.879320</td>\n",
              "      <td>-0.577897</td>\n",
              "      <td>-0.015392</td>\n",
              "      <td>0.578262</td>\n",
              "    </tr>\n",
              "    <tr>\n",
              "      <th>549</th>\n",
              "      <td>0.053343</td>\n",
              "      <td>-0.456737</td>\n",
              "      <td>0.272550</td>\n",
              "      <td>0.425169</td>\n",
              "      <td>-0.983961</td>\n",
              "      <td>0.571315</td>\n",
              "      <td>-0.778838</td>\n",
              "      <td>-0.45684</td>\n",
              "      <td>-1.673374</td>\n",
              "      <td>3.170545</td>\n",
              "      <td>...</td>\n",
              "      <td>-0.387017</td>\n",
              "      <td>-0.499482</td>\n",
              "      <td>-0.376018</td>\n",
              "      <td>2.445100</td>\n",
              "      <td>-0.02177</td>\n",
              "      <td>1.138338</td>\n",
              "      <td>-1.137242</td>\n",
              "      <td>1.730411</td>\n",
              "      <td>-0.015392</td>\n",
              "      <td>-1.729320</td>\n",
              "    </tr>\n",
              "    <tr>\n",
              "      <th>2826</th>\n",
              "      <td>1.393910</td>\n",
              "      <td>1.498738</td>\n",
              "      <td>1.679282</td>\n",
              "      <td>0.425169</td>\n",
              "      <td>0.123036</td>\n",
              "      <td>-0.227391</td>\n",
              "      <td>0.445568</td>\n",
              "      <td>-0.45684</td>\n",
              "      <td>0.597595</td>\n",
              "      <td>-0.315403</td>\n",
              "      <td>...</td>\n",
              "      <td>2.583866</td>\n",
              "      <td>-0.499482</td>\n",
              "      <td>-0.376018</td>\n",
              "      <td>-0.408981</td>\n",
              "      <td>-0.02177</td>\n",
              "      <td>-0.878474</td>\n",
              "      <td>0.879320</td>\n",
              "      <td>-0.577897</td>\n",
              "      <td>-0.015392</td>\n",
              "      <td>0.578262</td>\n",
              "    </tr>\n",
              "    <tr>\n",
              "      <th>2512</th>\n",
              "      <td>0.053343</td>\n",
              "      <td>0.521001</td>\n",
              "      <td>0.272550</td>\n",
              "      <td>1.917326</td>\n",
              "      <td>-0.153713</td>\n",
              "      <td>-0.067650</td>\n",
              "      <td>0.616985</td>\n",
              "      <td>-0.45684</td>\n",
              "      <td>0.597595</td>\n",
              "      <td>-0.315403</td>\n",
              "      <td>...</td>\n",
              "      <td>2.583866</td>\n",
              "      <td>-0.499482</td>\n",
              "      <td>-0.376018</td>\n",
              "      <td>-0.408981</td>\n",
              "      <td>-0.02177</td>\n",
              "      <td>-0.878474</td>\n",
              "      <td>0.879320</td>\n",
              "      <td>-0.577897</td>\n",
              "      <td>-0.015392</td>\n",
              "      <td>0.578262</td>\n",
              "    </tr>\n",
              "    <tr>\n",
              "      <th>904</th>\n",
              "      <td>0.053343</td>\n",
              "      <td>-0.662576</td>\n",
              "      <td>0.272550</td>\n",
              "      <td>-1.066988</td>\n",
              "      <td>0.123036</td>\n",
              "      <td>0.571315</td>\n",
              "      <td>-1.072695</td>\n",
              "      <td>-0.45684</td>\n",
              "      <td>-1.673374</td>\n",
              "      <td>3.170545</td>\n",
              "      <td>...</td>\n",
              "      <td>-0.387017</td>\n",
              "      <td>-0.499482</td>\n",
              "      <td>-0.376018</td>\n",
              "      <td>2.445100</td>\n",
              "      <td>-0.02177</td>\n",
              "      <td>1.138338</td>\n",
              "      <td>-1.137242</td>\n",
              "      <td>1.730411</td>\n",
              "      <td>-0.015392</td>\n",
              "      <td>-1.729320</td>\n",
              "    </tr>\n",
              "  </tbody>\n",
              "</table>\n",
              "<p>5 rows × 22 columns</p>\n",
              "</div>"
            ],
            "text/plain": [
              "           BHK      Size  Bathroom  Furnishing_Status_Encoded  Current_Floor  \\\n",
              "4408  0.053343  0.932680  0.272550                   1.917326       0.953284   \n",
              "549   0.053343 -0.456737  0.272550                   0.425169      -0.983961   \n",
              "2826  1.393910  1.498738  1.679282                   0.425169       0.123036   \n",
              "2512  0.053343  0.521001  0.272550                   1.917326      -0.153713   \n",
              "904   0.053343 -0.662576  0.272550                  -1.066988       0.123036   \n",
              "\n",
              "      Total_Floors  Size_per_Room  Tenant_Bachelors  Tenant_Bachelors/Family  \\\n",
              "4408      0.411574       1.204699          -0.45684                 0.597595   \n",
              "549       0.571315      -0.778838          -0.45684                -1.673374   \n",
              "2826     -0.227391       0.445568          -0.45684                 0.597595   \n",
              "2512     -0.067650       0.616985          -0.45684                 0.597595   \n",
              "904       0.571315      -1.072695          -0.45684                -1.673374   \n",
              "\n",
              "      Tenant_Family  ...  City_Delhi  City_Hyderabad  City_Kolkata  \\\n",
              "4408      -0.315403  ...   -0.387017        2.002075     -0.376018   \n",
              "549        3.170545  ...   -0.387017       -0.499482     -0.376018   \n",
              "2826      -0.315403  ...    2.583866       -0.499482     -0.376018   \n",
              "2512      -0.315403  ...    2.583866       -0.499482     -0.376018   \n",
              "904        3.170545  ...   -0.387017       -0.499482     -0.376018   \n",
              "\n",
              "      City_Mumbai  Area Type_Built Area  Area Type_Carpet Area  \\\n",
              "4408    -0.408981              -0.02177              -0.878474   \n",
              "549      2.445100              -0.02177               1.138338   \n",
              "2826    -0.408981              -0.02177              -0.878474   \n",
              "2512    -0.408981              -0.02177              -0.878474   \n",
              "904      2.445100              -0.02177               1.138338   \n",
              "\n",
              "      Area Type_Super Area  Contact_Contact Agent  Contact_Contact Builder  \\\n",
              "4408              0.879320              -0.577897                -0.015392   \n",
              "549              -1.137242               1.730411                -0.015392   \n",
              "2826              0.879320              -0.577897                -0.015392   \n",
              "2512              0.879320              -0.577897                -0.015392   \n",
              "904              -1.137242               1.730411                -0.015392   \n",
              "\n",
              "      Contact_Contact Owner  \n",
              "4408               0.578262  \n",
              "549               -1.729320  \n",
              "2826               0.578262  \n",
              "2512               0.578262  \n",
              "904               -1.729320  \n",
              "\n",
              "[5 rows x 22 columns]"
            ]
          },
          "execution_count": 59,
          "metadata": {},
          "output_type": "execute_result"
        }
      ],
      "source": [
        "X_test_biggest_errors = X_test.loc[top_errors.index]\n",
        "X_test_biggest_errors"
      ]
    },
    {
      "cell_type": "code",
      "execution_count": 60,
      "metadata": {},
      "outputs": [
        {
          "data": {
            "text/html": [
              "<div>\n",
              "<style scoped>\n",
              "    .dataframe tbody tr th:only-of-type {\n",
              "        vertical-align: middle;\n",
              "    }\n",
              "\n",
              "    .dataframe tbody tr th {\n",
              "        vertical-align: top;\n",
              "    }\n",
              "\n",
              "    .dataframe thead th {\n",
              "        text-align: right;\n",
              "    }\n",
              "</style>\n",
              "<table border=\"1\" class=\"dataframe\">\n",
              "  <thead>\n",
              "    <tr style=\"text-align: right;\">\n",
              "      <th></th>\n",
              "      <th>BHK</th>\n",
              "      <th>Size</th>\n",
              "      <th>Bathroom</th>\n",
              "      <th>Furnishing_Status_Encoded</th>\n",
              "      <th>Current_Floor</th>\n",
              "      <th>Total_Floors</th>\n",
              "      <th>Size_per_Room</th>\n",
              "      <th>Tenant_Bachelors</th>\n",
              "      <th>Tenant_Bachelors/Family</th>\n",
              "      <th>Tenant_Family</th>\n",
              "      <th>...</th>\n",
              "      <th>City_Delhi</th>\n",
              "      <th>City_Hyderabad</th>\n",
              "      <th>City_Kolkata</th>\n",
              "      <th>City_Mumbai</th>\n",
              "      <th>Area Type_Built Area</th>\n",
              "      <th>Area Type_Carpet Area</th>\n",
              "      <th>Area Type_Super Area</th>\n",
              "      <th>Contact_Contact Agent</th>\n",
              "      <th>Contact_Contact Builder</th>\n",
              "      <th>Contact_Contact Owner</th>\n",
              "    </tr>\n",
              "  </thead>\n",
              "  <tbody>\n",
              "    <tr>\n",
              "      <th>4408</th>\n",
              "      <td>2</td>\n",
              "      <td>1325</td>\n",
              "      <td>2</td>\n",
              "      <td>2</td>\n",
              "      <td>6</td>\n",
              "      <td>8.0</td>\n",
              "      <td>331.250000</td>\n",
              "      <td>False</td>\n",
              "      <td>True</td>\n",
              "      <td>False</td>\n",
              "      <td>...</td>\n",
              "      <td>False</td>\n",
              "      <td>True</td>\n",
              "      <td>False</td>\n",
              "      <td>False</td>\n",
              "      <td>False</td>\n",
              "      <td>False</td>\n",
              "      <td>True</td>\n",
              "      <td>False</td>\n",
              "      <td>False</td>\n",
              "      <td>True</td>\n",
              "    </tr>\n",
              "    <tr>\n",
              "      <th>549</th>\n",
              "      <td>2</td>\n",
              "      <td>650</td>\n",
              "      <td>2</td>\n",
              "      <td>1</td>\n",
              "      <td>-1</td>\n",
              "      <td>9.0</td>\n",
              "      <td>162.500000</td>\n",
              "      <td>False</td>\n",
              "      <td>False</td>\n",
              "      <td>True</td>\n",
              "      <td>...</td>\n",
              "      <td>False</td>\n",
              "      <td>False</td>\n",
              "      <td>False</td>\n",
              "      <td>True</td>\n",
              "      <td>False</td>\n",
              "      <td>True</td>\n",
              "      <td>False</td>\n",
              "      <td>True</td>\n",
              "      <td>False</td>\n",
              "      <td>False</td>\n",
              "    </tr>\n",
              "    <tr>\n",
              "      <th>2826</th>\n",
              "      <td>3</td>\n",
              "      <td>1600</td>\n",
              "      <td>3</td>\n",
              "      <td>1</td>\n",
              "      <td>3</td>\n",
              "      <td>4.0</td>\n",
              "      <td>266.666667</td>\n",
              "      <td>False</td>\n",
              "      <td>True</td>\n",
              "      <td>False</td>\n",
              "      <td>...</td>\n",
              "      <td>True</td>\n",
              "      <td>False</td>\n",
              "      <td>False</td>\n",
              "      <td>False</td>\n",
              "      <td>False</td>\n",
              "      <td>False</td>\n",
              "      <td>True</td>\n",
              "      <td>False</td>\n",
              "      <td>False</td>\n",
              "      <td>True</td>\n",
              "    </tr>\n",
              "    <tr>\n",
              "      <th>2512</th>\n",
              "      <td>2</td>\n",
              "      <td>1125</td>\n",
              "      <td>2</td>\n",
              "      <td>2</td>\n",
              "      <td>2</td>\n",
              "      <td>5.0</td>\n",
              "      <td>281.250000</td>\n",
              "      <td>False</td>\n",
              "      <td>True</td>\n",
              "      <td>False</td>\n",
              "      <td>...</td>\n",
              "      <td>True</td>\n",
              "      <td>False</td>\n",
              "      <td>False</td>\n",
              "      <td>False</td>\n",
              "      <td>False</td>\n",
              "      <td>False</td>\n",
              "      <td>True</td>\n",
              "      <td>False</td>\n",
              "      <td>False</td>\n",
              "      <td>True</td>\n",
              "    </tr>\n",
              "    <tr>\n",
              "      <th>904</th>\n",
              "      <td>2</td>\n",
              "      <td>550</td>\n",
              "      <td>2</td>\n",
              "      <td>0</td>\n",
              "      <td>3</td>\n",
              "      <td>9.0</td>\n",
              "      <td>137.500000</td>\n",
              "      <td>False</td>\n",
              "      <td>False</td>\n",
              "      <td>True</td>\n",
              "      <td>...</td>\n",
              "      <td>False</td>\n",
              "      <td>False</td>\n",
              "      <td>False</td>\n",
              "      <td>True</td>\n",
              "      <td>False</td>\n",
              "      <td>True</td>\n",
              "      <td>False</td>\n",
              "      <td>True</td>\n",
              "      <td>False</td>\n",
              "      <td>False</td>\n",
              "    </tr>\n",
              "  </tbody>\n",
              "</table>\n",
              "<p>5 rows × 22 columns</p>\n",
              "</div>"
            ],
            "text/plain": [
              "      BHK  Size  Bathroom  Furnishing_Status_Encoded  Current_Floor  \\\n",
              "4408    2  1325         2                          2              6   \n",
              "549     2   650         2                          1             -1   \n",
              "2826    3  1600         3                          1              3   \n",
              "2512    2  1125         2                          2              2   \n",
              "904     2   550         2                          0              3   \n",
              "\n",
              "      Total_Floors  Size_per_Room  Tenant_Bachelors  Tenant_Bachelors/Family  \\\n",
              "4408           8.0     331.250000             False                     True   \n",
              "549            9.0     162.500000             False                    False   \n",
              "2826           4.0     266.666667             False                     True   \n",
              "2512           5.0     281.250000             False                     True   \n",
              "904            9.0     137.500000             False                    False   \n",
              "\n",
              "      Tenant_Family  ...  City_Delhi  City_Hyderabad  City_Kolkata  \\\n",
              "4408          False  ...       False            True         False   \n",
              "549            True  ...       False           False         False   \n",
              "2826          False  ...        True           False         False   \n",
              "2512          False  ...        True           False         False   \n",
              "904            True  ...       False           False         False   \n",
              "\n",
              "      City_Mumbai  Area Type_Built Area  Area Type_Carpet Area  \\\n",
              "4408        False                 False                  False   \n",
              "549          True                 False                   True   \n",
              "2826        False                 False                  False   \n",
              "2512        False                 False                  False   \n",
              "904          True                 False                   True   \n",
              "\n",
              "      Area Type_Super Area  Contact_Contact Agent  Contact_Contact Builder  \\\n",
              "4408                  True                  False                    False   \n",
              "549                  False                   True                    False   \n",
              "2826                  True                  False                    False   \n",
              "2512                  True                  False                    False   \n",
              "904                  False                   True                    False   \n",
              "\n",
              "      Contact_Contact Owner  \n",
              "4408                   True  \n",
              "549                   False  \n",
              "2826                   True  \n",
              "2512                   True  \n",
              "904                   False  \n",
              "\n",
              "[5 rows x 22 columns]"
            ]
          },
          "execution_count": 60,
          "metadata": {},
          "output_type": "execute_result"
        }
      ],
      "source": [
        "X_biggest_errors = X.loc[top_errors.index]\n",
        "X_biggest_errors"
      ]
    },
    {
      "cell_type": "markdown",
      "metadata": {},
      "source": [
        "- Для трьох квартир модель значно занизила вартість оренди і для двох завищіла. \n",
        "- Завищена вартість вказана для квартир з типом розрахунку площі Carpet Area і контактом через агента, а занижена для квартир з типом Super Area і контактом через власника.\n",
        "- Також квартири з завищеною вартістю знаходяться в Mumbai, а цей фактор є самим впливовим.\n",
        "- В квартирах із завищеною вартістю тип орендаря Family, а для заниженої Bachelors/Family.\n",
        "- квартири із завищеною вартістю знаходяться в 9-ти поверхових будинках, а це також збільшує вартість відповідно до отриманих параметрів моделі.\n"
      ]
    },
    {
      "cell_type": "markdown",
      "metadata": {},
      "source": [
        "Для поліпшення якості моделі можна спробувати додати розрахункові фактори щодо району розташування, використавши зовнішні дані через API.\n",
        "Також можна використати інший тип моделі."
      ]
    },
    {
      "cell_type": "code",
      "execution_count": null,
      "metadata": {},
      "outputs": [],
      "source": [
        "# Спробуємо використати дерево прийняття рішень\n",
        "from sklearn.tree import DecisionTreeRegressor"
      ]
    },
    {
      "cell_type": "code",
      "execution_count": 64,
      "metadata": {},
      "outputs": [
        {
          "name": "stdout",
          "output_type": "stream",
          "text": [
            "==================================================\n",
            "МЕТРИКИ ЯКОСТІ МОДЕЛІ (тестова вибірка):\n",
            "==================================================\n",
            "MAE:  6336.23 лайків\n",
            "RMSE: 9470.08 лайків\n",
            "R²:   0.516\n",
            "\n",
            "==================================================\n",
            "МЕТРИКИ ЯКОСТІ МОДЕЛІ (тренувальна вибірка):\n",
            "==================================================\n",
            "MAE:  208.14 лайків\n",
            "RMSE: 949.37 лайків\n",
            "R²:   0.995\n",
            "\n"
          ]
        }
      ],
      "source": [
        "model_dt = DecisionTreeRegressor()\n",
        "model_dt.fit(X_train, y_train)\n",
        "\n",
        "y_train_pred_dt = model_dt.predict(X_train)\n",
        "y_test_pred_dt = model_dt.predict(X_test)\n",
        "\n",
        "def print_metrics(y_true, y_pred, name=\"Тестова вибірка\"):\n",
        "    mae = mean_absolute_error(y_true, y_pred)\n",
        "    rmse = np.sqrt(mean_squared_error(y_true, y_pred))\n",
        "    r2 = r2_score(y_true, y_pred)\n",
        "\n",
        "    print(\"=\" * 50)\n",
        "    print(f\"МЕТРИКИ ЯКОСТІ МОДЕЛІ ({name}):\")\n",
        "    print(\"=\" * 50)\n",
        "    print(f\"MAE:  {mae:.2f} лайків\")\n",
        "    print(f\"RMSE: {rmse:.2f} лайків\")\n",
        "    print(f\"R²:   {r2:.3f}\\n\")\n",
        "\n",
        "print_metrics(y_test, y_test_pred_dt, \"тестова вибірка\")\n",
        "print_metrics(y_train, y_train_pred_dt, \"тренувальна вибірка\")"
      ]
    },
    {
      "cell_type": "markdown",
      "metadata": {},
      "source": [
        "Як бачимо, прогноз з деревом прийняття рішень гірший, а модель перетренерувалась на вхідних даних.\n",
        "Отже, потрібно шукати інші способи покращення якості прогнозу"
      ]
    }
  ],
  "metadata": {
    "colab": {
      "provenance": []
    },
    "kernelspec": {
      "display_name": "Python 3",
      "name": "python3"
    },
    "language_info": {
      "codemirror_mode": {
        "name": "ipython",
        "version": 3
      },
      "file_extension": ".py",
      "mimetype": "text/x-python",
      "name": "python",
      "nbconvert_exporter": "python",
      "pygments_lexer": "ipython3",
      "version": "3.13.4"
    }
  },
  "nbformat": 4,
  "nbformat_minor": 0
}
