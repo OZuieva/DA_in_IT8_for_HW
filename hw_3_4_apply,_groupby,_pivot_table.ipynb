{
  "cells": [
    {
      "cell_type": "markdown",
      "metadata": {
        "id": "LwNpAFw_eTF3"
      },
      "source": [
        "#Домашнє завдання до тем apply(), groupby(), pivot_table()"
      ]
    },
    {
      "cell_type": "markdown",
      "metadata": {
        "id": "vP2PEJyq8Yrj"
      },
      "source": [
        "В цьому домашньому завданні продовжуємо працювати з набором даних `supermarket_sales.csv`."
      ]
    },
    {
      "cell_type": "markdown",
      "metadata": {
        "id": "dh9lfpDb8gBL"
      },
      "source": [
        "0. Імпортуйте бібліотеку pandas та зчитайте дані у змінну `df` типу `pandas.DataFrame`."
      ]
    },
    {
      "cell_type": "code",
      "execution_count": 1,
      "metadata": {
        "id": "xBI9gJMK8qnl"
      },
      "outputs": [],
      "source": [
        "import pandas as pd\n",
        "\n",
        "df = pd.read_csv('../data/supermarket_sales.csv')"
      ]
    },
    {
      "cell_type": "markdown",
      "metadata": {
        "id": "28638363"
      },
      "source": [
        "1. Дослідимо, який філіал супермаркету ('Branch') є найприбутковішим. Для цього знайдіть сумарний прибуток за кожним філіалом і виявіть, який філіал має найвищий."
      ]
    },
    {
      "cell_type": "code",
      "execution_count": 2,
      "metadata": {
        "ExecuteTime": {
          "end_time": "2022-11-01T17:27:42.023877Z",
          "start_time": "2022-11-01T17:27:42.020277Z"
        },
        "id": "916d731d"
      },
      "outputs": [
        {
          "data": {
            "text/plain": [
              "Branch\n",
              "A    5057.1605\n",
              "B    5057.0320\n",
              "C    5265.1765\n",
              "Name: gross income, dtype: float64"
            ]
          },
          "execution_count": 2,
          "metadata": {},
          "output_type": "execute_result"
        }
      ],
      "source": [
        "df.groupby('Branch')['gross income'].sum()"
      ]
    },
    {
      "cell_type": "markdown",
      "metadata": {},
      "source": [
        "`Gross Income`: Profit earned from the transaction.\n",
        "\n",
        "Загальна сума прибутку найбільша в філіалі `C`"
      ]
    },
    {
      "cell_type": "markdown",
      "metadata": {
        "id": "2qL_OddUCZKK"
      },
      "source": [
        "2. В якому місті знайходиться філіал з найвищим прибутком? Може в тому місці нам розмітисти ще один магазин.  \n",
        "Знайдіть відповідь за допомогою функціоналу Pandas."
      ]
    },
    {
      "cell_type": "code",
      "execution_count": 3,
      "metadata": {
        "id": "bBJUc1dWCwdi"
      },
      "outputs": [
        {
          "data": {
            "text/plain": [
              "('C', 'Naypyitaw')"
            ]
          },
          "execution_count": 3,
          "metadata": {},
          "output_type": "execute_result"
        }
      ],
      "source": [
        "df.groupby(['Branch', 'City'])['gross income'].sum().idxmax()"
      ]
    },
    {
      "cell_type": "markdown",
      "metadata": {},
      "source": [
        "Філіал `C` з найбільшим прибутком знаходиться в місті `Naypyitaw`"
      ]
    },
    {
      "cell_type": "markdown",
      "metadata": {
        "id": "6dec795f"
      },
      "source": [
        "3.1. Створіть зводну таблицю, яка покаже, скільки покупок (інвойсів) було зроблено в кожній з філій (`Branch`) за різними категоріями товарів. Запишіть таблицю в змінну `invoices_by_category` і виведіть змінну на екран.\n",
        "Ця таблиця допоможе проаналізувати, в якій філії купують найбільше товарів кожної з категорій."
      ]
    },
    {
      "cell_type": "code",
      "execution_count": 4,
      "metadata": {
        "id": "N7TfUBf4ZrkX"
      },
      "outputs": [
        {
          "data": {
            "text/html": [
              "<div>\n",
              "<style scoped>\n",
              "    .dataframe tbody tr th:only-of-type {\n",
              "        vertical-align: middle;\n",
              "    }\n",
              "\n",
              "    .dataframe tbody tr th {\n",
              "        vertical-align: top;\n",
              "    }\n",
              "\n",
              "    .dataframe thead th {\n",
              "        text-align: right;\n",
              "    }\n",
              "</style>\n",
              "<table border=\"1\" class=\"dataframe\">\n",
              "  <thead>\n",
              "    <tr style=\"text-align: right;\">\n",
              "      <th>Product line</th>\n",
              "      <th>Electronic accessories</th>\n",
              "      <th>Fashion accessories</th>\n",
              "      <th>Food and beverages</th>\n",
              "      <th>Health and beauty</th>\n",
              "      <th>Home and lifestyle</th>\n",
              "      <th>Sports and travel</th>\n",
              "    </tr>\n",
              "    <tr>\n",
              "      <th>Branch</th>\n",
              "      <th></th>\n",
              "      <th></th>\n",
              "      <th></th>\n",
              "      <th></th>\n",
              "      <th></th>\n",
              "      <th></th>\n",
              "    </tr>\n",
              "  </thead>\n",
              "  <tbody>\n",
              "    <tr>\n",
              "      <th>A</th>\n",
              "      <td>60</td>\n",
              "      <td>51</td>\n",
              "      <td>58</td>\n",
              "      <td>47</td>\n",
              "      <td>65</td>\n",
              "      <td>59</td>\n",
              "    </tr>\n",
              "    <tr>\n",
              "      <th>B</th>\n",
              "      <td>55</td>\n",
              "      <td>62</td>\n",
              "      <td>50</td>\n",
              "      <td>53</td>\n",
              "      <td>50</td>\n",
              "      <td>62</td>\n",
              "    </tr>\n",
              "    <tr>\n",
              "      <th>C</th>\n",
              "      <td>55</td>\n",
              "      <td>65</td>\n",
              "      <td>66</td>\n",
              "      <td>52</td>\n",
              "      <td>45</td>\n",
              "      <td>45</td>\n",
              "    </tr>\n",
              "  </tbody>\n",
              "</table>\n",
              "</div>"
            ],
            "text/plain": [
              "Product line  Electronic accessories  Fashion accessories  Food and beverages  \\\n",
              "Branch                                                                          \n",
              "A                                 60                   51                  58   \n",
              "B                                 55                   62                  50   \n",
              "C                                 55                   65                  66   \n",
              "\n",
              "Product line  Health and beauty  Home and lifestyle  Sports and travel  \n",
              "Branch                                                                  \n",
              "A                            47                  65                 59  \n",
              "B                            53                  50                 62  \n",
              "C                            52                  45                 45  "
            ]
          },
          "execution_count": 4,
          "metadata": {},
          "output_type": "execute_result"
        }
      ],
      "source": [
        "invoices_by_category = df.pivot_table(index = 'Branch', columns = 'Product line', values = 'Invoice ID', aggfunc = 'count')\n",
        "invoices_by_category"
      ]
    },
    {
      "cell_type": "markdown",
      "metadata": {
        "id": "woygDEA0OSwJ"
      },
      "source": [
        "3.2. Викристовуючи змінну `invoices_by_category` дайте відповідь програмно (тобто значення треба не просто знайти очима, а вивести за допомогою коду), в якому філіалі магазину (`Branch`) найбільше інвойсів із покупкою товарів категорії \"Електронні аксесуари\" (`Electronic accessories`)?\n"
      ]
    },
    {
      "cell_type": "code",
      "execution_count": 5,
      "metadata": {
        "id": "B5x8kTE-Qcq8"
      },
      "outputs": [
        {
          "data": {
            "text/plain": [
              "'A'"
            ]
          },
          "execution_count": 5,
          "metadata": {},
          "output_type": "execute_result"
        }
      ],
      "source": [
        "invoices_by_category['Electronic accessories'].idxmax()"
      ]
    },
    {
      "cell_type": "markdown",
      "metadata": {},
      "source": [
        "Найбільше інвойсів із покупкою товарів категорії \"Електронні аксесуари\" в філіалі `A`"
      ]
    },
    {
      "cell_type": "markdown",
      "metadata": {
        "ExecuteTime": {
          "end_time": "2022-11-01T17:56:02.981755Z",
          "start_time": "2022-11-01T17:56:02.977086Z"
        },
        "id": "d005a2b8"
      },
      "source": [
        "4-6. **Творче завдання на розвиток аналітичного мислення**\n",
        "\n",
        "Крок 1. Сформулюйте ТРИ питання (гіпотези) до наявних даних, які допомогли б вам зрозуміти, які користувачі що, де та коли найбільше/найменше купують, аби дати на основі цих гіпотез рекомендації бізнесу. Звісно питання мають бути не тими, на які ми вже відповіли в завданнях модулю.\n",
        "\n",
        "Крок 2. Знайдіть відповіді на свої питання з допомогою функціоналу pandas.\n",
        "\n",
        "Крок 3. Напишіть, як відповідь на це питання може бути використана для прийняття бізнес рішень.   \n",
        "   \n",
        " Питання можуть бути будь-якої складності, але їх має бути 3. Кожне питання оцінюється як 1 завдання. Без виконання цього завдання ДЗ не приймається. Якщо є питання щодо виконання - пишіть у чат 🙌\n"
      ]
    },
    {
      "cell_type": "code",
      "execution_count": 6,
      "metadata": {
        "id": "cM3cApWSZuRX"
      },
      "outputs": [
        {
          "data": {
            "text/html": [
              "<div>\n",
              "<style scoped>\n",
              "    .dataframe tbody tr th:only-of-type {\n",
              "        vertical-align: middle;\n",
              "    }\n",
              "\n",
              "    .dataframe tbody tr th {\n",
              "        vertical-align: top;\n",
              "    }\n",
              "\n",
              "    .dataframe thead tr th {\n",
              "        text-align: left;\n",
              "    }\n",
              "\n",
              "    .dataframe thead tr:last-of-type th {\n",
              "        text-align: right;\n",
              "    }\n",
              "</style>\n",
              "<table border=\"1\" class=\"dataframe\">\n",
              "  <thead>\n",
              "    <tr>\n",
              "      <th></th>\n",
              "      <th colspan=\"3\" halign=\"left\">sum</th>\n",
              "      <th colspan=\"3\" halign=\"left\">mean</th>\n",
              "    </tr>\n",
              "    <tr>\n",
              "      <th>Gender</th>\n",
              "      <th>Female</th>\n",
              "      <th>Male</th>\n",
              "      <th>All</th>\n",
              "      <th>Female</th>\n",
              "      <th>Male</th>\n",
              "      <th>All</th>\n",
              "    </tr>\n",
              "    <tr>\n",
              "      <th>Product line</th>\n",
              "      <th></th>\n",
              "      <th></th>\n",
              "      <th></th>\n",
              "      <th></th>\n",
              "      <th></th>\n",
              "      <th></th>\n",
              "    </tr>\n",
              "  </thead>\n",
              "  <tbody>\n",
              "    <tr>\n",
              "      <th>Electronic accessories</th>\n",
              "      <td>488</td>\n",
              "      <td>483</td>\n",
              "      <td>971</td>\n",
              "      <td>5.81</td>\n",
              "      <td>5.62</td>\n",
              "      <td>5.71</td>\n",
              "    </tr>\n",
              "    <tr>\n",
              "      <th>Fashion accessories</th>\n",
              "      <td>530</td>\n",
              "      <td>372</td>\n",
              "      <td>902</td>\n",
              "      <td>5.52</td>\n",
              "      <td>4.54</td>\n",
              "      <td>5.07</td>\n",
              "    </tr>\n",
              "    <tr>\n",
              "      <th>Food and beverages</th>\n",
              "      <td>514</td>\n",
              "      <td>438</td>\n",
              "      <td>952</td>\n",
              "      <td>5.71</td>\n",
              "      <td>5.21</td>\n",
              "      <td>5.47</td>\n",
              "    </tr>\n",
              "    <tr>\n",
              "      <th>Health and beauty</th>\n",
              "      <td>343</td>\n",
              "      <td>511</td>\n",
              "      <td>854</td>\n",
              "      <td>5.36</td>\n",
              "      <td>5.81</td>\n",
              "      <td>5.62</td>\n",
              "    </tr>\n",
              "    <tr>\n",
              "      <th>Home and lifestyle</th>\n",
              "      <td>498</td>\n",
              "      <td>413</td>\n",
              "      <td>911</td>\n",
              "      <td>6.30</td>\n",
              "      <td>5.10</td>\n",
              "      <td>5.69</td>\n",
              "    </tr>\n",
              "    <tr>\n",
              "      <th>Sports and travel</th>\n",
              "      <td>496</td>\n",
              "      <td>424</td>\n",
              "      <td>920</td>\n",
              "      <td>5.64</td>\n",
              "      <td>5.44</td>\n",
              "      <td>5.54</td>\n",
              "    </tr>\n",
              "    <tr>\n",
              "      <th>All</th>\n",
              "      <td>2869</td>\n",
              "      <td>2641</td>\n",
              "      <td>5510</td>\n",
              "      <td>5.73</td>\n",
              "      <td>5.29</td>\n",
              "      <td>5.51</td>\n",
              "    </tr>\n",
              "  </tbody>\n",
              "</table>\n",
              "</div>"
            ],
            "text/plain": [
              "                          sum               mean            \n",
              "Gender                 Female  Male   All Female  Male   All\n",
              "Product line                                                \n",
              "Electronic accessories    488   483   971   5.81  5.62  5.71\n",
              "Fashion accessories       530   372   902   5.52  4.54  5.07\n",
              "Food and beverages        514   438   952   5.71  5.21  5.47\n",
              "Health and beauty         343   511   854   5.36  5.81  5.62\n",
              "Home and lifestyle        498   413   911   6.30  5.10  5.69\n",
              "Sports and travel         496   424   920   5.64  5.44  5.54\n",
              "All                      2869  2641  5510   5.73  5.29  5.51"
            ]
          },
          "execution_count": 6,
          "metadata": {},
          "output_type": "execute_result"
        }
      ],
      "source": [
        "# Питання 1: Чи впливає стать клієнта на кількість придбаних продуків в розрізі категорій?\n",
        "quantity_by_gender = df.pivot_table(\n",
        "    index = 'Product line', \n",
        "    columns = 'Gender', \n",
        "    values = 'Quantity', \n",
        "    aggfunc = ['sum', 'mean'], \n",
        "    margins=True).round(2)\n",
        "\n",
        "quantity_by_gender"
      ]
    },
    {
      "cell_type": "markdown",
      "metadata": {},
      "source": [
        "Як показує аналіз, жінки в цілому купують більше товарів за чоловіків, як в цілому так і в середньому за одну покупку. \n",
        "Найбільше покупок жінки здійснюють в категоріях `Fashion accessories` та `Food and beverages`.\n",
        "\n",
        "Єдина категорія товарів, в якій за кількістю покупок переважають чоловіки - це `Health and beauty`.\n",
        "\n",
        "Отже, раціонально розробляти маркетингові кампанії спрямовані на жіночу аудиторію."
      ]
    },
    {
      "cell_type": "code",
      "execution_count": 7,
      "metadata": {},
      "outputs": [
        {
          "data": {
            "text/html": [
              "<div>\n",
              "<style scoped>\n",
              "    .dataframe tbody tr th:only-of-type {\n",
              "        vertical-align: middle;\n",
              "    }\n",
              "\n",
              "    .dataframe tbody tr th {\n",
              "        vertical-align: top;\n",
              "    }\n",
              "\n",
              "    .dataframe thead th {\n",
              "        text-align: right;\n",
              "    }\n",
              "</style>\n",
              "<table border=\"1\" class=\"dataframe\">\n",
              "  <thead>\n",
              "    <tr style=\"text-align: right;\">\n",
              "      <th></th>\n",
              "      <th></th>\n",
              "      <th>count</th>\n",
              "      <th>mean</th>\n",
              "      <th>min</th>\n",
              "      <th>max</th>\n",
              "    </tr>\n",
              "    <tr>\n",
              "      <th>Branch</th>\n",
              "      <th>City</th>\n",
              "      <th></th>\n",
              "      <th></th>\n",
              "      <th></th>\n",
              "      <th></th>\n",
              "    </tr>\n",
              "  </thead>\n",
              "  <tbody>\n",
              "    <tr>\n",
              "      <th>C</th>\n",
              "      <th>Naypyitaw</th>\n",
              "      <td>328</td>\n",
              "      <td>7.07</td>\n",
              "      <td>4.0</td>\n",
              "      <td>10.0</td>\n",
              "    </tr>\n",
              "    <tr>\n",
              "      <th>A</th>\n",
              "      <th>Yangon</th>\n",
              "      <td>340</td>\n",
              "      <td>7.03</td>\n",
              "      <td>4.0</td>\n",
              "      <td>10.0</td>\n",
              "    </tr>\n",
              "    <tr>\n",
              "      <th>B</th>\n",
              "      <th>Mandalay</th>\n",
              "      <td>332</td>\n",
              "      <td>6.82</td>\n",
              "      <td>4.0</td>\n",
              "      <td>10.0</td>\n",
              "    </tr>\n",
              "  </tbody>\n",
              "</table>\n",
              "</div>"
            ],
            "text/plain": [
              "                  count  mean  min   max\n",
              "Branch City                             \n",
              "C      Naypyitaw    328  7.07  4.0  10.0\n",
              "A      Yangon       340  7.03  4.0  10.0\n",
              "B      Mandalay     332  6.82  4.0  10.0"
            ]
          },
          "execution_count": 7,
          "metadata": {},
          "output_type": "execute_result"
        }
      ],
      "source": [
        "# Питання 2: В якому філіалі клієнти більш задоволені покупками?\n",
        "df.groupby(['Branch', 'City'])['Rating'].agg(['count', 'mean', 'min', 'max']).sort_values(by='mean', ascending=False).round(2)"
      ]
    },
    {
      "cell_type": "markdown",
      "metadata": {},
      "source": [
        "Найвищій середній рейтинг задоволення клієнтів в філіалі `C` в місті `Naypyitaw`, а найгірший в місті `Mandalay`. При цьому в місті `Naypyitaw` за досліджуваний період здійснено менше покупок, ніж в інших містах. \n",
        "\n",
        "Отже потрібно дослідити чим задоволені клієнти в місті `Naypyitaw` і стимулювати їх здійснювати більше покупок. Водночас, необхідно дослідити причини низького рейтингу в місті `Mandalay` і провести заходи для підвищення рейтингу."
      ]
    },
    {
      "cell_type": "code",
      "execution_count": 8,
      "metadata": {},
      "outputs": [
        {
          "data": {
            "text/html": [
              "<div>\n",
              "<style scoped>\n",
              "    .dataframe tbody tr th:only-of-type {\n",
              "        vertical-align: middle;\n",
              "    }\n",
              "\n",
              "    .dataframe tbody tr th {\n",
              "        vertical-align: top;\n",
              "    }\n",
              "\n",
              "    .dataframe thead th {\n",
              "        text-align: right;\n",
              "    }\n",
              "</style>\n",
              "<table border=\"1\" class=\"dataframe\">\n",
              "  <thead>\n",
              "    <tr style=\"text-align: right;\">\n",
              "      <th>Branch</th>\n",
              "      <th>A</th>\n",
              "      <th>B</th>\n",
              "      <th>C</th>\n",
              "      <th>Total</th>\n",
              "    </tr>\n",
              "    <tr>\n",
              "      <th>Date_month</th>\n",
              "      <th></th>\n",
              "      <th></th>\n",
              "      <th></th>\n",
              "      <th></th>\n",
              "    </tr>\n",
              "  </thead>\n",
              "  <tbody>\n",
              "    <tr>\n",
              "      <th>1</th>\n",
              "      <td>1841.96</td>\n",
              "      <td>1770.29</td>\n",
              "      <td>1925.46</td>\n",
              "      <td>5537.71</td>\n",
              "    </tr>\n",
              "    <tr>\n",
              "      <th>2</th>\n",
              "      <td>1421.91</td>\n",
              "      <td>1639.25</td>\n",
              "      <td>1568.33</td>\n",
              "      <td>4629.49</td>\n",
              "    </tr>\n",
              "    <tr>\n",
              "      <th>3</th>\n",
              "      <td>1793.29</td>\n",
              "      <td>1647.49</td>\n",
              "      <td>1771.38</td>\n",
              "      <td>5212.17</td>\n",
              "    </tr>\n",
              "    <tr>\n",
              "      <th>Total</th>\n",
              "      <td>5057.16</td>\n",
              "      <td>5057.03</td>\n",
              "      <td>5265.18</td>\n",
              "      <td>15379.37</td>\n",
              "    </tr>\n",
              "  </tbody>\n",
              "</table>\n",
              "</div>"
            ],
            "text/plain": [
              "Branch            A        B        C     Total\n",
              "Date_month                                     \n",
              "1           1841.96  1770.29  1925.46   5537.71\n",
              "2           1421.91  1639.25  1568.33   4629.49\n",
              "3           1793.29  1647.49  1771.38   5212.17\n",
              "Total       5057.16  5057.03  5265.18  15379.37"
            ]
          },
          "execution_count": 8,
          "metadata": {},
          "output_type": "execute_result"
        }
      ],
      "source": [
        "# Питання 3: Який філіал приніс найбільше коштів за місяцями?\n",
        "\n",
        "df['Date_month'] = pd.to_datetime(df['Date'], format='%m/%d/%Y').dt.month\n",
        "\n",
        "income_by_month = df.pivot_table(\n",
        "    index = 'Date_month', \n",
        "    columns = 'Branch', \n",
        "    values = 'gross income', \n",
        "    aggfunc = 'sum', \n",
        "    margins=True,\n",
        "    margins_name='Total').round(2)\n",
        "\n",
        "income_by_month"
      ]
    },
    {
      "cell_type": "markdown",
      "metadata": {},
      "source": [
        "Найбільшу суму прибутку з досліджуваний період приніс філіал `C`. Це й же філіал був найбільш прибутковий в самий прибутковий місяць - січень.\n",
        "\n",
        "В лютому спостерігається спад прибутку за всіма філіалами, найбільш прибутковий в цей місяць - філіал `B`. В березні найбільш прибутковим став філіал `A`.\n",
        "\n",
        "В цілому прибутковість філіалу `B` є більш стабільною на відміну від філіалів `A` та `C`, які піддаються ризику сезонних коливань.\n",
        "\n",
        "Отже, потрібно виявити причини значних коливань продажів за місяцями і провести заходи щодо їх мінімізації на основі дослідження діяльності філіалу `B`. Особливу увагу слід звернути на філіал `A`, коливання прибутковості в якому є найбільшими. Також доцільно проаналізувати причини низької прибутковості філіалу `B` в найбільш \"гарячому\" місяці - січні."
      ]
    }
  ],
  "metadata": {
    "colab": {
      "provenance": []
    },
    "kernelspec": {
      "display_name": "Python 3",
      "name": "python3"
    },
    "language_info": {
      "codemirror_mode": {
        "name": "ipython",
        "version": 3
      },
      "file_extension": ".py",
      "mimetype": "text/x-python",
      "name": "python",
      "nbconvert_exporter": "python",
      "pygments_lexer": "ipython3",
      "version": "3.13.4"
    }
  },
  "nbformat": 4,
  "nbformat_minor": 0
}
